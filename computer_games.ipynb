{
 "cells": [
  {
   "cell_type": "markdown",
   "metadata": {},
   "source": [
    "# Анализ игровой индустрии"
   ]
  },
  {
   "cell_type": "markdown",
   "metadata": {},
   "source": [
    "Из открытых источников доступны исторические данные о продажах игр, оценки пользователей и экспертов, жанры и платформы (например, Xbox или PlayStation)."
   ]
  },
  {
   "cell_type": "markdown",
   "metadata": {},
   "source": [
    "План: Откроем и изучим датасет, произведем предобработку данных, проведием исследовательский анализ данных, составим портрет пользователя каждого региона, проверим несколько гипотез, напишим общий вывод"
   ]
  },
  {
   "cell_type": "markdown",
   "metadata": {},
   "source": [
    "Цель проекта: Нужно выявить определяющие успешность игры закономерности. Это позволит сделать ставку на потенциально популярный продукт и спланировать рекламные кампании."
   ]
  },
  {
   "cell_type": "markdown",
   "metadata": {},
   "source": [
    "### Откроем файл с данными и изучим общую информацию"
   ]
  },
  {
   "cell_type": "code",
   "execution_count": 1,
   "metadata": {},
   "outputs": [],
   "source": [
    "import pandas as pd\n",
    "import numpy as np\n",
    "import statistics as stat\n",
    "import warnings\n",
    "import matplotlib.pyplot as plt\n",
    "from scipy import stats as st"
   ]
  },
  {
   "cell_type": "code",
   "execution_count": 2,
   "metadata": {},
   "outputs": [],
   "source": [
    "warnings.simplefilter(\"ignore\")"
   ]
  },
  {
   "cell_type": "code",
   "execution_count": 3,
   "metadata": {},
   "outputs": [],
   "source": [
    "data = pd.read_csv('/datasets/games.csv')"
   ]
  },
  {
   "cell_type": "code",
   "execution_count": 4,
   "metadata": {},
   "outputs": [
    {
     "data": {
      "text/html": [
       "<div>\n",
       "<style scoped>\n",
       "    .dataframe tbody tr th:only-of-type {\n",
       "        vertical-align: middle;\n",
       "    }\n",
       "\n",
       "    .dataframe tbody tr th {\n",
       "        vertical-align: top;\n",
       "    }\n",
       "\n",
       "    .dataframe thead th {\n",
       "        text-align: right;\n",
       "    }\n",
       "</style>\n",
       "<table border=\"1\" class=\"dataframe\">\n",
       "  <thead>\n",
       "    <tr style=\"text-align: right;\">\n",
       "      <th></th>\n",
       "      <th>Name</th>\n",
       "      <th>Platform</th>\n",
       "      <th>Year_of_Release</th>\n",
       "      <th>Genre</th>\n",
       "      <th>NA_sales</th>\n",
       "      <th>EU_sales</th>\n",
       "      <th>JP_sales</th>\n",
       "      <th>Other_sales</th>\n",
       "      <th>Critic_Score</th>\n",
       "      <th>User_Score</th>\n",
       "      <th>Rating</th>\n",
       "    </tr>\n",
       "  </thead>\n",
       "  <tbody>\n",
       "    <tr>\n",
       "      <th>0</th>\n",
       "      <td>Wii Sports</td>\n",
       "      <td>Wii</td>\n",
       "      <td>2006.0</td>\n",
       "      <td>Sports</td>\n",
       "      <td>41.36</td>\n",
       "      <td>28.96</td>\n",
       "      <td>3.77</td>\n",
       "      <td>8.45</td>\n",
       "      <td>76.0</td>\n",
       "      <td>8</td>\n",
       "      <td>E</td>\n",
       "    </tr>\n",
       "    <tr>\n",
       "      <th>1</th>\n",
       "      <td>Super Mario Bros.</td>\n",
       "      <td>NES</td>\n",
       "      <td>1985.0</td>\n",
       "      <td>Platform</td>\n",
       "      <td>29.08</td>\n",
       "      <td>3.58</td>\n",
       "      <td>6.81</td>\n",
       "      <td>0.77</td>\n",
       "      <td>NaN</td>\n",
       "      <td>NaN</td>\n",
       "      <td>NaN</td>\n",
       "    </tr>\n",
       "    <tr>\n",
       "      <th>2</th>\n",
       "      <td>Mario Kart Wii</td>\n",
       "      <td>Wii</td>\n",
       "      <td>2008.0</td>\n",
       "      <td>Racing</td>\n",
       "      <td>15.68</td>\n",
       "      <td>12.76</td>\n",
       "      <td>3.79</td>\n",
       "      <td>3.29</td>\n",
       "      <td>82.0</td>\n",
       "      <td>8.3</td>\n",
       "      <td>E</td>\n",
       "    </tr>\n",
       "    <tr>\n",
       "      <th>3</th>\n",
       "      <td>Wii Sports Resort</td>\n",
       "      <td>Wii</td>\n",
       "      <td>2009.0</td>\n",
       "      <td>Sports</td>\n",
       "      <td>15.61</td>\n",
       "      <td>10.93</td>\n",
       "      <td>3.28</td>\n",
       "      <td>2.95</td>\n",
       "      <td>80.0</td>\n",
       "      <td>8</td>\n",
       "      <td>E</td>\n",
       "    </tr>\n",
       "    <tr>\n",
       "      <th>4</th>\n",
       "      <td>Pokemon Red/Pokemon Blue</td>\n",
       "      <td>GB</td>\n",
       "      <td>1996.0</td>\n",
       "      <td>Role-Playing</td>\n",
       "      <td>11.27</td>\n",
       "      <td>8.89</td>\n",
       "      <td>10.22</td>\n",
       "      <td>1.00</td>\n",
       "      <td>NaN</td>\n",
       "      <td>NaN</td>\n",
       "      <td>NaN</td>\n",
       "    </tr>\n",
       "    <tr>\n",
       "      <th>...</th>\n",
       "      <td>...</td>\n",
       "      <td>...</td>\n",
       "      <td>...</td>\n",
       "      <td>...</td>\n",
       "      <td>...</td>\n",
       "      <td>...</td>\n",
       "      <td>...</td>\n",
       "      <td>...</td>\n",
       "      <td>...</td>\n",
       "      <td>...</td>\n",
       "      <td>...</td>\n",
       "    </tr>\n",
       "    <tr>\n",
       "      <th>16710</th>\n",
       "      <td>Samurai Warriors: Sanada Maru</td>\n",
       "      <td>PS3</td>\n",
       "      <td>2016.0</td>\n",
       "      <td>Action</td>\n",
       "      <td>0.00</td>\n",
       "      <td>0.00</td>\n",
       "      <td>0.01</td>\n",
       "      <td>0.00</td>\n",
       "      <td>NaN</td>\n",
       "      <td>NaN</td>\n",
       "      <td>NaN</td>\n",
       "    </tr>\n",
       "    <tr>\n",
       "      <th>16711</th>\n",
       "      <td>LMA Manager 2007</td>\n",
       "      <td>X360</td>\n",
       "      <td>2006.0</td>\n",
       "      <td>Sports</td>\n",
       "      <td>0.00</td>\n",
       "      <td>0.01</td>\n",
       "      <td>0.00</td>\n",
       "      <td>0.00</td>\n",
       "      <td>NaN</td>\n",
       "      <td>NaN</td>\n",
       "      <td>NaN</td>\n",
       "    </tr>\n",
       "    <tr>\n",
       "      <th>16712</th>\n",
       "      <td>Haitaka no Psychedelica</td>\n",
       "      <td>PSV</td>\n",
       "      <td>2016.0</td>\n",
       "      <td>Adventure</td>\n",
       "      <td>0.00</td>\n",
       "      <td>0.00</td>\n",
       "      <td>0.01</td>\n",
       "      <td>0.00</td>\n",
       "      <td>NaN</td>\n",
       "      <td>NaN</td>\n",
       "      <td>NaN</td>\n",
       "    </tr>\n",
       "    <tr>\n",
       "      <th>16713</th>\n",
       "      <td>Spirits &amp; Spells</td>\n",
       "      <td>GBA</td>\n",
       "      <td>2003.0</td>\n",
       "      <td>Platform</td>\n",
       "      <td>0.01</td>\n",
       "      <td>0.00</td>\n",
       "      <td>0.00</td>\n",
       "      <td>0.00</td>\n",
       "      <td>NaN</td>\n",
       "      <td>NaN</td>\n",
       "      <td>NaN</td>\n",
       "    </tr>\n",
       "    <tr>\n",
       "      <th>16714</th>\n",
       "      <td>Winning Post 8 2016</td>\n",
       "      <td>PSV</td>\n",
       "      <td>2016.0</td>\n",
       "      <td>Simulation</td>\n",
       "      <td>0.00</td>\n",
       "      <td>0.00</td>\n",
       "      <td>0.01</td>\n",
       "      <td>0.00</td>\n",
       "      <td>NaN</td>\n",
       "      <td>NaN</td>\n",
       "      <td>NaN</td>\n",
       "    </tr>\n",
       "  </tbody>\n",
       "</table>\n",
       "<p>16715 rows × 11 columns</p>\n",
       "</div>"
      ],
      "text/plain": [
       "                                Name Platform  Year_of_Release         Genre  \\\n",
       "0                         Wii Sports      Wii           2006.0        Sports   \n",
       "1                  Super Mario Bros.      NES           1985.0      Platform   \n",
       "2                     Mario Kart Wii      Wii           2008.0        Racing   \n",
       "3                  Wii Sports Resort      Wii           2009.0        Sports   \n",
       "4           Pokemon Red/Pokemon Blue       GB           1996.0  Role-Playing   \n",
       "...                              ...      ...              ...           ...   \n",
       "16710  Samurai Warriors: Sanada Maru      PS3           2016.0        Action   \n",
       "16711               LMA Manager 2007     X360           2006.0        Sports   \n",
       "16712        Haitaka no Psychedelica      PSV           2016.0     Adventure   \n",
       "16713               Spirits & Spells      GBA           2003.0      Platform   \n",
       "16714            Winning Post 8 2016      PSV           2016.0    Simulation   \n",
       "\n",
       "       NA_sales  EU_sales  JP_sales  Other_sales  Critic_Score User_Score  \\\n",
       "0         41.36     28.96      3.77         8.45          76.0          8   \n",
       "1         29.08      3.58      6.81         0.77           NaN        NaN   \n",
       "2         15.68     12.76      3.79         3.29          82.0        8.3   \n",
       "3         15.61     10.93      3.28         2.95          80.0          8   \n",
       "4         11.27      8.89     10.22         1.00           NaN        NaN   \n",
       "...         ...       ...       ...          ...           ...        ...   \n",
       "16710      0.00      0.00      0.01         0.00           NaN        NaN   \n",
       "16711      0.00      0.01      0.00         0.00           NaN        NaN   \n",
       "16712      0.00      0.00      0.01         0.00           NaN        NaN   \n",
       "16713      0.01      0.00      0.00         0.00           NaN        NaN   \n",
       "16714      0.00      0.00      0.01         0.00           NaN        NaN   \n",
       "\n",
       "      Rating  \n",
       "0          E  \n",
       "1        NaN  \n",
       "2          E  \n",
       "3          E  \n",
       "4        NaN  \n",
       "...      ...  \n",
       "16710    NaN  \n",
       "16711    NaN  \n",
       "16712    NaN  \n",
       "16713    NaN  \n",
       "16714    NaN  \n",
       "\n",
       "[16715 rows x 11 columns]"
      ]
     },
     "execution_count": 4,
     "metadata": {},
     "output_type": "execute_result"
    }
   ],
   "source": [
    "data"
   ]
  },
  {
   "cell_type": "code",
   "execution_count": 5,
   "metadata": {},
   "outputs": [
    {
     "name": "stdout",
     "output_type": "stream",
     "text": [
      "<class 'pandas.core.frame.DataFrame'>\n",
      "RangeIndex: 16715 entries, 0 to 16714\n",
      "Data columns (total 11 columns):\n",
      " #   Column           Non-Null Count  Dtype  \n",
      "---  ------           --------------  -----  \n",
      " 0   Name             16713 non-null  object \n",
      " 1   Platform         16715 non-null  object \n",
      " 2   Year_of_Release  16446 non-null  float64\n",
      " 3   Genre            16713 non-null  object \n",
      " 4   NA_sales         16715 non-null  float64\n",
      " 5   EU_sales         16715 non-null  float64\n",
      " 6   JP_sales         16715 non-null  float64\n",
      " 7   Other_sales      16715 non-null  float64\n",
      " 8   Critic_Score     8137 non-null   float64\n",
      " 9   User_Score       10014 non-null  object \n",
      " 10  Rating           9949 non-null   object \n",
      "dtypes: float64(6), object(5)\n",
      "memory usage: 1.4+ MB\n"
     ]
    }
   ],
   "source": [
    "data.info()"
   ]
  },
  {
   "cell_type": "code",
   "execution_count": 6,
   "metadata": {},
   "outputs": [
    {
     "data": {
      "text/plain": [
       "array(['Wii', 'NES', 'GB', 'DS', 'X360', 'PS3', 'PS2', 'SNES', 'GBA',\n",
       "       'PS4', '3DS', 'N64', 'PS', 'XB', 'PC', '2600', 'PSP', 'XOne',\n",
       "       'WiiU', 'GC', 'GEN', 'DC', 'PSV', 'SAT', 'SCD', 'WS', 'NG', 'TG16',\n",
       "       '3DO', 'GG', 'PCFX'], dtype=object)"
      ]
     },
     "execution_count": 6,
     "metadata": {},
     "output_type": "execute_result"
    }
   ],
   "source": [
    "data['Platform'].unique()"
   ]
  },
  {
   "cell_type": "code",
   "execution_count": 7,
   "metadata": {},
   "outputs": [
    {
     "data": {
      "text/plain": [
       "array([2006., 1985., 2008., 2009., 1996., 1989., 1984., 2005., 1999.,\n",
       "       2007., 2010., 2013., 2004., 1990., 1988., 2002., 2001., 2011.,\n",
       "       1998., 2015., 2012., 2014., 1992., 1997., 1993., 1994., 1982.,\n",
       "       2016., 2003., 1986., 2000.,   nan, 1995., 1991., 1981., 1987.,\n",
       "       1980., 1983.])"
      ]
     },
     "execution_count": 7,
     "metadata": {},
     "output_type": "execute_result"
    }
   ],
   "source": [
    "data['Year_of_Release'].unique()"
   ]
  },
  {
   "cell_type": "code",
   "execution_count": 8,
   "metadata": {},
   "outputs": [
    {
     "data": {
      "text/plain": [
       "array(['E', nan, 'M', 'T', 'E10+', 'K-A', 'AO', 'EC', 'RP'], dtype=object)"
      ]
     },
     "execution_count": 8,
     "metadata": {},
     "output_type": "execute_result"
    }
   ],
   "source": [
    "data['Rating'].unique()"
   ]
  },
  {
   "cell_type": "code",
   "execution_count": 9,
   "metadata": {},
   "outputs": [
    {
     "data": {
      "text/plain": [
       "array(['8', nan, '8.3', '8.5', '6.6', '8.4', '8.6', '7.7', '6.3', '7.4',\n",
       "       '8.2', '9', '7.9', '8.1', '8.7', '7.1', '3.4', '5.3', '4.8', '3.2',\n",
       "       '8.9', '6.4', '7.8', '7.5', '2.6', '7.2', '9.2', '7', '7.3', '4.3',\n",
       "       '7.6', '5.7', '5', '9.1', '6.5', 'tbd', '8.8', '6.9', '9.4', '6.8',\n",
       "       '6.1', '6.7', '5.4', '4', '4.9', '4.5', '9.3', '6.2', '4.2', '6',\n",
       "       '3.7', '4.1', '5.8', '5.6', '5.5', '4.4', '4.6', '5.9', '3.9',\n",
       "       '3.1', '2.9', '5.2', '3.3', '4.7', '5.1', '3.5', '2.5', '1.9', '3',\n",
       "       '2.7', '2.2', '2', '9.5', '2.1', '3.6', '2.8', '1.8', '3.8', '0',\n",
       "       '1.6', '9.6', '2.4', '1.7', '1.1', '0.3', '1.5', '0.7', '1.2',\n",
       "       '2.3', '0.5', '1.3', '0.2', '0.6', '1.4', '0.9', '1', '9.7'],\n",
       "      dtype=object)"
      ]
     },
     "execution_count": 9,
     "metadata": {},
     "output_type": "execute_result"
    }
   ],
   "source": [
    "data['User_Score'].unique()"
   ]
  },
  {
   "cell_type": "code",
   "execution_count": 10,
   "metadata": {},
   "outputs": [
    {
     "data": {
      "image/png": "[encoded data removed]",
      "text/plain": [
       "<Figure size 1080x1440 with 6 Axes>"
      ]
     },
     "metadata": {
      "needs_background": "light"
     },
     "output_type": "display_data"
    }
   ],
   "source": [
    "data.hist(figsize=(15, 20));"
   ]
  },
  {
   "cell_type": "markdown",
   "metadata": {},
   "source": [
    "### Предобработка данных"
   ]
  },
  {
   "cell_type": "markdown",
   "metadata": {},
   "source": [
    "#### Замените названия столбцов (приведите к нижнему регистру)"
   ]
  },
  {
   "cell_type": "code",
   "execution_count": 11,
   "metadata": {},
   "outputs": [],
   "source": [
    "data.columns = data.columns.str.lower()"
   ]
  },
  {
   "cell_type": "markdown",
   "metadata": {},
   "source": [
    "#### Обработайте пропуски при необходимости"
   ]
  },
  {
   "cell_type": "markdown",
   "metadata": {},
   "source": [
    "Что имелось ввиду \"tbd\" данных нет поэтому заменим значение на NaN"
   ]
  },
  {
   "cell_type": "code",
   "execution_count": 12,
   "metadata": {},
   "outputs": [],
   "source": [
    "data.loc[data['user_score'] == 'tbd', 'user_score'] = np.nan"
   ]
  },
  {
   "cell_type": "markdown",
   "metadata": {},
   "source": [
    "Пропуски годов заполню так, если у игры несколько выходов на разных платформах и там есть год выхода то в пропуск подставляю медианное значение"
   ]
  },
  {
   "cell_type": "code",
   "execution_count": 13,
   "metadata": {},
   "outputs": [],
   "source": [
    "for ds_name in data[data['year_of_release'].isnull()]['name'].unique():\n",
    "    if data.loc[(data['name'] == ds_name) & (~data['year_of_release'].isnull()), 'year_of_release'].count() >=1:\n",
    "        ds_year = stat.mode(data.loc[(data['name'] == ds_name) & (~data['year_of_release'].isnull()), 'year_of_release'])\n",
    "        data.loc[(data['name'] == ds_name) & (data['year_of_release'].isnull()), 'year_of_release'] = ds_year\n",
    "    else:\n",
    "        data = data[~((data['name'] == ds_name) & (data['year_of_release'].isnull()))]"
   ]
  },
  {
   "cell_type": "markdown",
   "metadata": {},
   "source": [
    "Удалю строки с пропуском названия игры"
   ]
  },
  {
   "cell_type": "code",
   "execution_count": 14,
   "metadata": {},
   "outputs": [],
   "source": [
    "data = data[~data['name'].isnull()] "
   ]
  },
  {
   "cell_type": "markdown",
   "metadata": {},
   "source": [
    "Заменим пропуски в столбце RATING на значение 'Unknown'"
   ]
  },
  {
   "cell_type": "code",
   "execution_count": 17,
   "metadata": {},
   "outputs": [],
   "source": [
    "data['rating'] = data['rating'].fillna('Unknown')"
   ]
  },
  {
   "cell_type": "code",
   "execution_count": 19,
   "metadata": {},
   "outputs": [
    {
     "data": {
      "text/plain": [
       "name                  0\n",
       "platform              0\n",
       "year_of_release       0\n",
       "genre                 0\n",
       "na_sales              0\n",
       "eu_sales              0\n",
       "jp_sales              0\n",
       "other_sales           0\n",
       "critic_score       8492\n",
       "user_score         9027\n",
       "rating                0\n",
       "dtype: int64"
      ]
     },
     "execution_count": 19,
     "metadata": {},
     "output_type": "execute_result"
    }
   ],
   "source": [
    "#Код ревьювера\n",
    "data.isna().sum()"
   ]
  },
  {
   "cell_type": "markdown",
   "metadata": {},
   "source": [
    "#### Преобразуйте данные в нужные типы. Опишите, в каких столбцах заменили тип данных и почему;"
   ]
  },
  {
   "cell_type": "markdown",
   "metadata": {},
   "source": [
    "Столбец с годами поменяю на INT и столбец с очками пользователей поменяю на FLOAT т.к. потом нам с этим столбцом работать, а OBJECT нам этого не позволит"
   ]
  },
  {
   "cell_type": "code",
   "execution_count": 20,
   "metadata": {},
   "outputs": [],
   "source": [
    "data['user_score'] = data['user_score'].astype('float64')"
   ]
  },
  {
   "cell_type": "code",
   "execution_count": 21,
   "metadata": {},
   "outputs": [],
   "source": [
    "data['year_of_release'] = data['year_of_release'].astype('int64')"
   ]
  },
  {
   "cell_type": "code",
   "execution_count": 22,
   "metadata": {},
   "outputs": [
    {
     "name": "stdout",
     "output_type": "stream",
     "text": [
      "<class 'pandas.core.frame.DataFrame'>\n",
      "Int64Index: 16567 entries, 0 to 16714\n",
      "Data columns (total 11 columns):\n",
      " #   Column           Non-Null Count  Dtype  \n",
      "---  ------           --------------  -----  \n",
      " 0   name             16567 non-null  object \n",
      " 1   platform         16567 non-null  object \n",
      " 2   year_of_release  16567 non-null  int64  \n",
      " 3   genre            16567 non-null  object \n",
      " 4   na_sales         16567 non-null  float64\n",
      " 5   eu_sales         16567 non-null  float64\n",
      " 6   jp_sales         16567 non-null  float64\n",
      " 7   other_sales      16567 non-null  float64\n",
      " 8   critic_score     8075 non-null   float64\n",
      " 9   user_score       7540 non-null   float64\n",
      " 10  rating           16567 non-null  object \n",
      "dtypes: float64(6), int64(1), object(4)\n",
      "memory usage: 1.5+ MB\n"
     ]
    }
   ],
   "source": [
    "data.info()"
   ]
  },
  {
   "cell_type": "markdown",
   "metadata": {},
   "source": [
    "#### Посчитайте суммарные продажи во всех регионах и запишите их в отдельный столбец."
   ]
  },
  {
   "cell_type": "code",
   "execution_count": 23,
   "metadata": {},
   "outputs": [],
   "source": [
    "data['all_sales'] = data['na_sales'] + data['eu_sales'] + data['jp_sales'] + data['other_sales']"
   ]
  },
  {
   "cell_type": "code",
   "execution_count": 24,
   "metadata": {},
   "outputs": [
    {
     "data": {
      "text/html": [
       "<div>\n",
       "<style scoped>\n",
       "    .dataframe tbody tr th:only-of-type {\n",
       "        vertical-align: middle;\n",
       "    }\n",
       "\n",
       "    .dataframe tbody tr th {\n",
       "        vertical-align: top;\n",
       "    }\n",
       "\n",
       "    .dataframe thead th {\n",
       "        text-align: right;\n",
       "    }\n",
       "</style>\n",
       "<table border=\"1\" class=\"dataframe\">\n",
       "  <thead>\n",
       "    <tr style=\"text-align: right;\">\n",
       "      <th></th>\n",
       "      <th>name</th>\n",
       "      <th>platform</th>\n",
       "      <th>year_of_release</th>\n",
       "      <th>genre</th>\n",
       "      <th>na_sales</th>\n",
       "      <th>eu_sales</th>\n",
       "      <th>jp_sales</th>\n",
       "      <th>other_sales</th>\n",
       "      <th>critic_score</th>\n",
       "      <th>user_score</th>\n",
       "      <th>rating</th>\n",
       "      <th>all_sales</th>\n",
       "    </tr>\n",
       "  </thead>\n",
       "  <tbody>\n",
       "    <tr>\n",
       "      <th>0</th>\n",
       "      <td>Wii Sports</td>\n",
       "      <td>Wii</td>\n",
       "      <td>2006</td>\n",
       "      <td>Sports</td>\n",
       "      <td>41.36</td>\n",
       "      <td>28.96</td>\n",
       "      <td>3.77</td>\n",
       "      <td>8.45</td>\n",
       "      <td>76.0</td>\n",
       "      <td>8.0</td>\n",
       "      <td>E</td>\n",
       "      <td>82.54</td>\n",
       "    </tr>\n",
       "    <tr>\n",
       "      <th>1</th>\n",
       "      <td>Super Mario Bros.</td>\n",
       "      <td>NES</td>\n",
       "      <td>1985</td>\n",
       "      <td>Platform</td>\n",
       "      <td>29.08</td>\n",
       "      <td>3.58</td>\n",
       "      <td>6.81</td>\n",
       "      <td>0.77</td>\n",
       "      <td>NaN</td>\n",
       "      <td>NaN</td>\n",
       "      <td>Unknown</td>\n",
       "      <td>40.24</td>\n",
       "    </tr>\n",
       "    <tr>\n",
       "      <th>2</th>\n",
       "      <td>Mario Kart Wii</td>\n",
       "      <td>Wii</td>\n",
       "      <td>2008</td>\n",
       "      <td>Racing</td>\n",
       "      <td>15.68</td>\n",
       "      <td>12.76</td>\n",
       "      <td>3.79</td>\n",
       "      <td>3.29</td>\n",
       "      <td>82.0</td>\n",
       "      <td>8.3</td>\n",
       "      <td>E</td>\n",
       "      <td>35.52</td>\n",
       "    </tr>\n",
       "    <tr>\n",
       "      <th>3</th>\n",
       "      <td>Wii Sports Resort</td>\n",
       "      <td>Wii</td>\n",
       "      <td>2009</td>\n",
       "      <td>Sports</td>\n",
       "      <td>15.61</td>\n",
       "      <td>10.93</td>\n",
       "      <td>3.28</td>\n",
       "      <td>2.95</td>\n",
       "      <td>80.0</td>\n",
       "      <td>8.0</td>\n",
       "      <td>E</td>\n",
       "      <td>32.77</td>\n",
       "    </tr>\n",
       "    <tr>\n",
       "      <th>4</th>\n",
       "      <td>Pokemon Red/Pokemon Blue</td>\n",
       "      <td>GB</td>\n",
       "      <td>1996</td>\n",
       "      <td>Role-Playing</td>\n",
       "      <td>11.27</td>\n",
       "      <td>8.89</td>\n",
       "      <td>10.22</td>\n",
       "      <td>1.00</td>\n",
       "      <td>NaN</td>\n",
       "      <td>NaN</td>\n",
       "      <td>Unknown</td>\n",
       "      <td>31.38</td>\n",
       "    </tr>\n",
       "    <tr>\n",
       "      <th>...</th>\n",
       "      <td>...</td>\n",
       "      <td>...</td>\n",
       "      <td>...</td>\n",
       "      <td>...</td>\n",
       "      <td>...</td>\n",
       "      <td>...</td>\n",
       "      <td>...</td>\n",
       "      <td>...</td>\n",
       "      <td>...</td>\n",
       "      <td>...</td>\n",
       "      <td>...</td>\n",
       "      <td>...</td>\n",
       "    </tr>\n",
       "    <tr>\n",
       "      <th>16710</th>\n",
       "      <td>Samurai Warriors: Sanada Maru</td>\n",
       "      <td>PS3</td>\n",
       "      <td>2016</td>\n",
       "      <td>Action</td>\n",
       "      <td>0.00</td>\n",
       "      <td>0.00</td>\n",
       "      <td>0.01</td>\n",
       "      <td>0.00</td>\n",
       "      <td>NaN</td>\n",
       "      <td>NaN</td>\n",
       "      <td>Unknown</td>\n",
       "      <td>0.01</td>\n",
       "    </tr>\n",
       "    <tr>\n",
       "      <th>16711</th>\n",
       "      <td>LMA Manager 2007</td>\n",
       "      <td>X360</td>\n",
       "      <td>2006</td>\n",
       "      <td>Sports</td>\n",
       "      <td>0.00</td>\n",
       "      <td>0.01</td>\n",
       "      <td>0.00</td>\n",
       "      <td>0.00</td>\n",
       "      <td>NaN</td>\n",
       "      <td>NaN</td>\n",
       "      <td>Unknown</td>\n",
       "      <td>0.01</td>\n",
       "    </tr>\n",
       "    <tr>\n",
       "      <th>16712</th>\n",
       "      <td>Haitaka no Psychedelica</td>\n",
       "      <td>PSV</td>\n",
       "      <td>2016</td>\n",
       "      <td>Adventure</td>\n",
       "      <td>0.00</td>\n",
       "      <td>0.00</td>\n",
       "      <td>0.01</td>\n",
       "      <td>0.00</td>\n",
       "      <td>NaN</td>\n",
       "      <td>NaN</td>\n",
       "      <td>Unknown</td>\n",
       "      <td>0.01</td>\n",
       "    </tr>\n",
       "    <tr>\n",
       "      <th>16713</th>\n",
       "      <td>Spirits &amp; Spells</td>\n",
       "      <td>GBA</td>\n",
       "      <td>2003</td>\n",
       "      <td>Platform</td>\n",
       "      <td>0.01</td>\n",
       "      <td>0.00</td>\n",
       "      <td>0.00</td>\n",
       "      <td>0.00</td>\n",
       "      <td>NaN</td>\n",
       "      <td>NaN</td>\n",
       "      <td>Unknown</td>\n",
       "      <td>0.01</td>\n",
       "    </tr>\n",
       "    <tr>\n",
       "      <th>16714</th>\n",
       "      <td>Winning Post 8 2016</td>\n",
       "      <td>PSV</td>\n",
       "      <td>2016</td>\n",
       "      <td>Simulation</td>\n",
       "      <td>0.00</td>\n",
       "      <td>0.00</td>\n",
       "      <td>0.01</td>\n",
       "      <td>0.00</td>\n",
       "      <td>NaN</td>\n",
       "      <td>NaN</td>\n",
       "      <td>Unknown</td>\n",
       "      <td>0.01</td>\n",
       "    </tr>\n",
       "  </tbody>\n",
       "</table>\n",
       "<p>16567 rows × 12 columns</p>\n",
       "</div>"
      ],
      "text/plain": [
       "                                name platform  year_of_release         genre  \\\n",
       "0                         Wii Sports      Wii             2006        Sports   \n",
       "1                  Super Mario Bros.      NES             1985      Platform   \n",
       "2                     Mario Kart Wii      Wii             2008        Racing   \n",
       "3                  Wii Sports Resort      Wii             2009        Sports   \n",
       "4           Pokemon Red/Pokemon Blue       GB             1996  Role-Playing   \n",
       "...                              ...      ...              ...           ...   \n",
       "16710  Samurai Warriors: Sanada Maru      PS3             2016        Action   \n",
       "16711               LMA Manager 2007     X360             2006        Sports   \n",
       "16712        Haitaka no Psychedelica      PSV             2016     Adventure   \n",
       "16713               Spirits & Spells      GBA             2003      Platform   \n",
       "16714            Winning Post 8 2016      PSV             2016    Simulation   \n",
       "\n",
       "       na_sales  eu_sales  jp_sales  other_sales  critic_score  user_score  \\\n",
       "0         41.36     28.96      3.77         8.45          76.0         8.0   \n",
       "1         29.08      3.58      6.81         0.77           NaN         NaN   \n",
       "2         15.68     12.76      3.79         3.29          82.0         8.3   \n",
       "3         15.61     10.93      3.28         2.95          80.0         8.0   \n",
       "4         11.27      8.89     10.22         1.00           NaN         NaN   \n",
       "...         ...       ...       ...          ...           ...         ...   \n",
       "16710      0.00      0.00      0.01         0.00           NaN         NaN   \n",
       "16711      0.00      0.01      0.00         0.00           NaN         NaN   \n",
       "16712      0.00      0.00      0.01         0.00           NaN         NaN   \n",
       "16713      0.01      0.00      0.00         0.00           NaN         NaN   \n",
       "16714      0.00      0.00      0.01         0.00           NaN         NaN   \n",
       "\n",
       "        rating  all_sales  \n",
       "0            E      82.54  \n",
       "1      Unknown      40.24  \n",
       "2            E      35.52  \n",
       "3            E      32.77  \n",
       "4      Unknown      31.38  \n",
       "...        ...        ...  \n",
       "16710  Unknown       0.01  \n",
       "16711  Unknown       0.01  \n",
       "16712  Unknown       0.01  \n",
       "16713  Unknown       0.01  \n",
       "16714  Unknown       0.01  \n",
       "\n",
       "[16567 rows x 12 columns]"
      ]
     },
     "execution_count": 24,
     "metadata": {},
     "output_type": "execute_result"
    }
   ],
   "source": [
    "data"
   ]
  },
  {
   "cell_type": "markdown",
   "metadata": {},
   "source": [
    "### Проведем исследовательский анализ данных"
   ]
  },
  {
   "cell_type": "markdown",
   "metadata": {},
   "source": [
    "#### Посмотрите, сколько игр выпускалось в разные годы. Важны ли данные за все периоды?"
   ]
  },
  {
   "cell_type": "code",
   "execution_count": 28,
   "metadata": {},
   "outputs": [
    {
     "data": {
      "text/html": [
       "<div>\n",
       "<style scoped>\n",
       "    .dataframe tbody tr th:only-of-type {\n",
       "        vertical-align: middle;\n",
       "    }\n",
       "\n",
       "    .dataframe tbody tr th {\n",
       "        vertical-align: top;\n",
       "    }\n",
       "\n",
       "    .dataframe thead th {\n",
       "        text-align: right;\n",
       "    }\n",
       "</style>\n",
       "<table border=\"1\" class=\"dataframe\">\n",
       "  <thead>\n",
       "    <tr style=\"text-align: right;\">\n",
       "      <th></th>\n",
       "      <th>name</th>\n",
       "    </tr>\n",
       "    <tr>\n",
       "      <th>year_of_release</th>\n",
       "      <th></th>\n",
       "    </tr>\n",
       "  </thead>\n",
       "  <tbody>\n",
       "    <tr>\n",
       "      <th>1980</th>\n",
       "      <td>9</td>\n",
       "    </tr>\n",
       "    <tr>\n",
       "      <th>1981</th>\n",
       "      <td>46</td>\n",
       "    </tr>\n",
       "    <tr>\n",
       "      <th>1982</th>\n",
       "      <td>36</td>\n",
       "    </tr>\n",
       "    <tr>\n",
       "      <th>1983</th>\n",
       "      <td>17</td>\n",
       "    </tr>\n",
       "    <tr>\n",
       "      <th>1984</th>\n",
       "      <td>14</td>\n",
       "    </tr>\n",
       "    <tr>\n",
       "      <th>1985</th>\n",
       "      <td>14</td>\n",
       "    </tr>\n",
       "    <tr>\n",
       "      <th>1986</th>\n",
       "      <td>21</td>\n",
       "    </tr>\n",
       "    <tr>\n",
       "      <th>1987</th>\n",
       "      <td>16</td>\n",
       "    </tr>\n",
       "    <tr>\n",
       "      <th>1988</th>\n",
       "      <td>15</td>\n",
       "    </tr>\n",
       "    <tr>\n",
       "      <th>1989</th>\n",
       "      <td>17</td>\n",
       "    </tr>\n",
       "    <tr>\n",
       "      <th>1990</th>\n",
       "      <td>16</td>\n",
       "    </tr>\n",
       "    <tr>\n",
       "      <th>1991</th>\n",
       "      <td>41</td>\n",
       "    </tr>\n",
       "    <tr>\n",
       "      <th>1992</th>\n",
       "      <td>43</td>\n",
       "    </tr>\n",
       "    <tr>\n",
       "      <th>1993</th>\n",
       "      <td>60</td>\n",
       "    </tr>\n",
       "    <tr>\n",
       "      <th>1994</th>\n",
       "      <td>122</td>\n",
       "    </tr>\n",
       "    <tr>\n",
       "      <th>1995</th>\n",
       "      <td>219</td>\n",
       "    </tr>\n",
       "    <tr>\n",
       "      <th>1996</th>\n",
       "      <td>263</td>\n",
       "    </tr>\n",
       "    <tr>\n",
       "      <th>1997</th>\n",
       "      <td>289</td>\n",
       "    </tr>\n",
       "    <tr>\n",
       "      <th>1998</th>\n",
       "      <td>379</td>\n",
       "    </tr>\n",
       "    <tr>\n",
       "      <th>1999</th>\n",
       "      <td>339</td>\n",
       "    </tr>\n",
       "    <tr>\n",
       "      <th>2000</th>\n",
       "      <td>351</td>\n",
       "    </tr>\n",
       "    <tr>\n",
       "      <th>2001</th>\n",
       "      <td>486</td>\n",
       "    </tr>\n",
       "    <tr>\n",
       "      <th>2002</th>\n",
       "      <td>845</td>\n",
       "    </tr>\n",
       "    <tr>\n",
       "      <th>2003</th>\n",
       "      <td>783</td>\n",
       "    </tr>\n",
       "    <tr>\n",
       "      <th>2004</th>\n",
       "      <td>764</td>\n",
       "    </tr>\n",
       "    <tr>\n",
       "      <th>2005</th>\n",
       "      <td>947</td>\n",
       "    </tr>\n",
       "    <tr>\n",
       "      <th>2006</th>\n",
       "      <td>1020</td>\n",
       "    </tr>\n",
       "    <tr>\n",
       "      <th>2007</th>\n",
       "      <td>1202</td>\n",
       "    </tr>\n",
       "    <tr>\n",
       "      <th>2008</th>\n",
       "      <td>1441</td>\n",
       "    </tr>\n",
       "    <tr>\n",
       "      <th>2009</th>\n",
       "      <td>1430</td>\n",
       "    </tr>\n",
       "    <tr>\n",
       "      <th>2010</th>\n",
       "      <td>1270</td>\n",
       "    </tr>\n",
       "    <tr>\n",
       "      <th>2011</th>\n",
       "      <td>1153</td>\n",
       "    </tr>\n",
       "    <tr>\n",
       "      <th>2012</th>\n",
       "      <td>662</td>\n",
       "    </tr>\n",
       "    <tr>\n",
       "      <th>2013</th>\n",
       "      <td>548</td>\n",
       "    </tr>\n",
       "    <tr>\n",
       "      <th>2014</th>\n",
       "      <td>581</td>\n",
       "    </tr>\n",
       "    <tr>\n",
       "      <th>2015</th>\n",
       "      <td>606</td>\n",
       "    </tr>\n",
       "    <tr>\n",
       "      <th>2016</th>\n",
       "      <td>502</td>\n",
       "    </tr>\n",
       "  </tbody>\n",
       "</table>\n",
       "</div>"
      ],
      "text/plain": [
       "                 name\n",
       "year_of_release      \n",
       "1980                9\n",
       "1981               46\n",
       "1982               36\n",
       "1983               17\n",
       "1984               14\n",
       "1985               14\n",
       "1986               21\n",
       "1987               16\n",
       "1988               15\n",
       "1989               17\n",
       "1990               16\n",
       "1991               41\n",
       "1992               43\n",
       "1993               60\n",
       "1994              122\n",
       "1995              219\n",
       "1996              263\n",
       "1997              289\n",
       "1998              379\n",
       "1999              339\n",
       "2000              351\n",
       "2001              486\n",
       "2002              845\n",
       "2003              783\n",
       "2004              764\n",
       "2005              947\n",
       "2006             1020\n",
       "2007             1202\n",
       "2008             1441\n",
       "2009             1430\n",
       "2010             1270\n",
       "2011             1153\n",
       "2012              662\n",
       "2013              548\n",
       "2014              581\n",
       "2015              606\n",
       "2016              502"
      ]
     },
     "execution_count": 28,
     "metadata": {},
     "output_type": "execute_result"
    }
   ],
   "source": [
    "data.pivot_table(index=['year_of_release'], values='name', aggfunc='count')"
   ]
  },
  {
   "cell_type": "code",
   "execution_count": 27,
   "metadata": {},
   "outputs": [
    {
     "data": {
      "text/plain": [
       "<AxesSubplot:ylabel='year_of_release'>"
      ]
     },
     "execution_count": 27,
     "metadata": {},
     "output_type": "execute_result"
    },
    {
     "data": {
      "image/png": "[encoded data removed]",
      "text/plain": [
       "<Figure size 1368x720 with 1 Axes>"
      ]
     },
     "metadata": {
      "needs_background": "light"
     },
     "output_type": "display_data"
    }
   ],
   "source": [
    "data.pivot_table(index=['year_of_release'], values='name', aggfunc='count').plot(kind= 'barh', figsize=(19,10), legend = False, fontsize = 16)"
   ]
  },
  {
   "cell_type": "markdown",
   "metadata": {},
   "source": [
    "Видим что с 1994 года начинается бум создания видоигр и достигает своего пика в 2008-2009 годах и дальше с 2012 года резкое снижение производства видеоигр "
   ]
  },
  {
   "cell_type": "markdown",
   "metadata": {},
   "source": [
    "#### Посмотрите, как менялись продажи по платформам. Выберите платформы с наибольшими суммарными продажами и постройте распределение по годам. За какой характерный срок появляются новые и исчезают старые платформы?"
   ]
  },
  {
   "cell_type": "markdown",
   "metadata": {},
   "source": [
    "Смотрим как менялись продажи по платформам"
   ]
  },
  {
   "cell_type": "code",
   "execution_count": 41,
   "metadata": {
    "scrolled": true
   },
   "outputs": [
    {
     "data": {
      "text/html": [
       "<div>\n",
       "<style scoped>\n",
       "    .dataframe tbody tr th:only-of-type {\n",
       "        vertical-align: middle;\n",
       "    }\n",
       "\n",
       "    .dataframe tbody tr th {\n",
       "        vertical-align: top;\n",
       "    }\n",
       "\n",
       "    .dataframe thead th {\n",
       "        text-align: right;\n",
       "    }\n",
       "</style>\n",
       "<table border=\"1\" class=\"dataframe\">\n",
       "  <thead>\n",
       "    <tr style=\"text-align: right;\">\n",
       "      <th></th>\n",
       "      <th></th>\n",
       "      <th>all_sales</th>\n",
       "    </tr>\n",
       "    <tr>\n",
       "      <th>year_of_release</th>\n",
       "      <th>platform</th>\n",
       "      <th></th>\n",
       "    </tr>\n",
       "  </thead>\n",
       "  <tbody>\n",
       "    <tr>\n",
       "      <th>1980</th>\n",
       "      <th>2600</th>\n",
       "      <td>11.38</td>\n",
       "    </tr>\n",
       "    <tr>\n",
       "      <th>1981</th>\n",
       "      <th>2600</th>\n",
       "      <td>35.68</td>\n",
       "    </tr>\n",
       "    <tr>\n",
       "      <th>1982</th>\n",
       "      <th>2600</th>\n",
       "      <td>28.88</td>\n",
       "    </tr>\n",
       "    <tr>\n",
       "      <th rowspan=\"2\" valign=\"top\">1983</th>\n",
       "      <th>2600</th>\n",
       "      <td>5.84</td>\n",
       "    </tr>\n",
       "    <tr>\n",
       "      <th>NES</th>\n",
       "      <td>10.96</td>\n",
       "    </tr>\n",
       "    <tr>\n",
       "      <th rowspan=\"2\" valign=\"top\">1984</th>\n",
       "      <th>2600</th>\n",
       "      <td>0.27</td>\n",
       "    </tr>\n",
       "    <tr>\n",
       "      <th>NES</th>\n",
       "      <td>50.08</td>\n",
       "    </tr>\n",
       "    <tr>\n",
       "      <th rowspan=\"4\" valign=\"top\">1985</th>\n",
       "      <th>2600</th>\n",
       "      <td>0.45</td>\n",
       "    </tr>\n",
       "    <tr>\n",
       "      <th>DS</th>\n",
       "      <td>0.02</td>\n",
       "    </tr>\n",
       "    <tr>\n",
       "      <th>NES</th>\n",
       "      <td>53.44</td>\n",
       "    </tr>\n",
       "    <tr>\n",
       "      <th>PC</th>\n",
       "      <td>0.04</td>\n",
       "    </tr>\n",
       "    <tr>\n",
       "      <th rowspan=\"2\" valign=\"top\">1986</th>\n",
       "      <th>2600</th>\n",
       "      <td>0.67</td>\n",
       "    </tr>\n",
       "    <tr>\n",
       "      <th>NES</th>\n",
       "      <td>36.41</td>\n",
       "    </tr>\n",
       "    <tr>\n",
       "      <th rowspan=\"2\" valign=\"top\">1987</th>\n",
       "      <th>2600</th>\n",
       "      <td>1.94</td>\n",
       "    </tr>\n",
       "    <tr>\n",
       "      <th>NES</th>\n",
       "      <td>19.76</td>\n",
       "    </tr>\n",
       "    <tr>\n",
       "      <th rowspan=\"4\" valign=\"top\">1988</th>\n",
       "      <th>2600</th>\n",
       "      <td>0.74</td>\n",
       "    </tr>\n",
       "    <tr>\n",
       "      <th>GB</th>\n",
       "      <td>1.43</td>\n",
       "    </tr>\n",
       "    <tr>\n",
       "      <th>NES</th>\n",
       "      <td>45.01</td>\n",
       "    </tr>\n",
       "    <tr>\n",
       "      <th>PC</th>\n",
       "      <td>0.03</td>\n",
       "    </tr>\n",
       "    <tr>\n",
       "      <th rowspan=\"3\" valign=\"top\">1989</th>\n",
       "      <th>2600</th>\n",
       "      <td>0.63</td>\n",
       "    </tr>\n",
       "    <tr>\n",
       "      <th>GB</th>\n",
       "      <td>64.97</td>\n",
       "    </tr>\n",
       "    <tr>\n",
       "      <th>NES</th>\n",
       "      <td>7.85</td>\n",
       "    </tr>\n",
       "    <tr>\n",
       "      <th rowspan=\"4\" valign=\"top\">1990</th>\n",
       "      <th>GB</th>\n",
       "      <td>4.89</td>\n",
       "    </tr>\n",
       "    <tr>\n",
       "      <th>GEN</th>\n",
       "      <td>2.60</td>\n",
       "    </tr>\n",
       "    <tr>\n",
       "      <th>NES</th>\n",
       "      <td>15.73</td>\n",
       "    </tr>\n",
       "    <tr>\n",
       "      <th>SNES</th>\n",
       "      <td>26.15</td>\n",
       "    </tr>\n",
       "    <tr>\n",
       "      <th rowspan=\"4\" valign=\"top\">1991</th>\n",
       "      <th>GB</th>\n",
       "      <td>5.57</td>\n",
       "    </tr>\n",
       "    <tr>\n",
       "      <th>GEN</th>\n",
       "      <td>4.33</td>\n",
       "    </tr>\n",
       "    <tr>\n",
       "      <th>NES</th>\n",
       "      <td>6.11</td>\n",
       "    </tr>\n",
       "    <tr>\n",
       "      <th>SNES</th>\n",
       "      <td>16.22</td>\n",
       "    </tr>\n",
       "    <tr>\n",
       "      <th rowspan=\"6\" valign=\"top\">1992</th>\n",
       "      <th>GB</th>\n",
       "      <td>25.49</td>\n",
       "    </tr>\n",
       "    <tr>\n",
       "      <th>GEN</th>\n",
       "      <td>12.64</td>\n",
       "    </tr>\n",
       "    <tr>\n",
       "      <th>GG</th>\n",
       "      <td>0.04</td>\n",
       "    </tr>\n",
       "    <tr>\n",
       "      <th>NES</th>\n",
       "      <td>1.98</td>\n",
       "    </tr>\n",
       "    <tr>\n",
       "      <th>PC</th>\n",
       "      <td>3.03</td>\n",
       "    </tr>\n",
       "    <tr>\n",
       "      <th>SNES</th>\n",
       "      <td>32.98</td>\n",
       "    </tr>\n",
       "    <tr>\n",
       "      <th rowspan=\"5\" valign=\"top\">1993</th>\n",
       "      <th>GEN</th>\n",
       "      <td>0.65</td>\n",
       "    </tr>\n",
       "    <tr>\n",
       "      <th>NES</th>\n",
       "      <td>3.61</td>\n",
       "    </tr>\n",
       "    <tr>\n",
       "      <th>NG</th>\n",
       "      <td>0.21</td>\n",
       "    </tr>\n",
       "    <tr>\n",
       "      <th>SCD</th>\n",
       "      <td>1.50</td>\n",
       "    </tr>\n",
       "    <tr>\n",
       "      <th>SNES</th>\n",
       "      <td>40.02</td>\n",
       "    </tr>\n",
       "    <tr>\n",
       "      <th rowspan=\"11\" valign=\"top\">1994</th>\n",
       "      <th>2600</th>\n",
       "      <td>2.53</td>\n",
       "    </tr>\n",
       "    <tr>\n",
       "      <th>3DO</th>\n",
       "      <td>0.02</td>\n",
       "    </tr>\n",
       "    <tr>\n",
       "      <th>GB</th>\n",
       "      <td>12.18</td>\n",
       "    </tr>\n",
       "    <tr>\n",
       "      <th>GEN</th>\n",
       "      <td>8.13</td>\n",
       "    </tr>\n",
       "    <tr>\n",
       "      <th>NES</th>\n",
       "      <td>0.11</td>\n",
       "    </tr>\n",
       "    <tr>\n",
       "      <th>NG</th>\n",
       "      <td>0.80</td>\n",
       "    </tr>\n",
       "    <tr>\n",
       "      <th>PC</th>\n",
       "      <td>12.87</td>\n",
       "    </tr>\n",
       "    <tr>\n",
       "      <th>PS</th>\n",
       "      <td>6.03</td>\n",
       "    </tr>\n",
       "    <tr>\n",
       "      <th>SAT</th>\n",
       "      <td>3.65</td>\n",
       "    </tr>\n",
       "    <tr>\n",
       "      <th>SCD</th>\n",
       "      <td>0.36</td>\n",
       "    </tr>\n",
       "    <tr>\n",
       "      <th>SNES</th>\n",
       "      <td>35.08</td>\n",
       "    </tr>\n",
       "    <tr>\n",
       "      <th rowspan=\"8\" valign=\"top\">1995</th>\n",
       "      <th>3DO</th>\n",
       "      <td>0.08</td>\n",
       "    </tr>\n",
       "    <tr>\n",
       "      <th>GB</th>\n",
       "      <td>3.60</td>\n",
       "    </tr>\n",
       "    <tr>\n",
       "      <th>NG</th>\n",
       "      <td>0.33</td>\n",
       "    </tr>\n",
       "    <tr>\n",
       "      <th>PC</th>\n",
       "      <td>4.22</td>\n",
       "    </tr>\n",
       "    <tr>\n",
       "      <th>PS</th>\n",
       "      <td>35.96</td>\n",
       "    </tr>\n",
       "    <tr>\n",
       "      <th>SAT</th>\n",
       "      <td>11.57</td>\n",
       "    </tr>\n",
       "    <tr>\n",
       "      <th>SNES</th>\n",
       "      <td>32.20</td>\n",
       "    </tr>\n",
       "    <tr>\n",
       "      <th>TG16</th>\n",
       "      <td>0.16</td>\n",
       "    </tr>\n",
       "    <tr>\n",
       "      <th rowspan=\"8\" valign=\"top\">1996</th>\n",
       "      <th>GB</th>\n",
       "      <td>36.03</td>\n",
       "    </tr>\n",
       "    <tr>\n",
       "      <th>N64</th>\n",
       "      <td>34.10</td>\n",
       "    </tr>\n",
       "    <tr>\n",
       "      <th>NG</th>\n",
       "      <td>0.10</td>\n",
       "    </tr>\n",
       "    <tr>\n",
       "      <th>PC</th>\n",
       "      <td>10.58</td>\n",
       "    </tr>\n",
       "    <tr>\n",
       "      <th>PCFX</th>\n",
       "      <td>0.03</td>\n",
       "    </tr>\n",
       "    <tr>\n",
       "      <th>PS</th>\n",
       "      <td>94.70</td>\n",
       "    </tr>\n",
       "    <tr>\n",
       "      <th>SAT</th>\n",
       "      <td>7.69</td>\n",
       "    </tr>\n",
       "    <tr>\n",
       "      <th>SNES</th>\n",
       "      <td>15.92</td>\n",
       "    </tr>\n",
       "    <tr>\n",
       "      <th rowspan=\"6\" valign=\"top\">1997</th>\n",
       "      <th>GB</th>\n",
       "      <td>6.37</td>\n",
       "    </tr>\n",
       "    <tr>\n",
       "      <th>N64</th>\n",
       "      <td>39.50</td>\n",
       "    </tr>\n",
       "    <tr>\n",
       "      <th>PC</th>\n",
       "      <td>11.27</td>\n",
       "    </tr>\n",
       "    <tr>\n",
       "      <th>PS</th>\n",
       "      <td>136.17</td>\n",
       "    </tr>\n",
       "    <tr>\n",
       "      <th>SAT</th>\n",
       "      <td>6.77</td>\n",
       "    </tr>\n",
       "    <tr>\n",
       "      <th>SNES</th>\n",
       "      <td>0.99</td>\n",
       "    </tr>\n",
       "    <tr>\n",
       "      <th rowspan=\"7\" valign=\"top\">1998</th>\n",
       "      <th>DC</th>\n",
       "      <td>3.38</td>\n",
       "    </tr>\n",
       "    <tr>\n",
       "      <th>GB</th>\n",
       "      <td>26.90</td>\n",
       "    </tr>\n",
       "    <tr>\n",
       "      <th>N64</th>\n",
       "      <td>49.24</td>\n",
       "    </tr>\n",
       "    <tr>\n",
       "      <th>PC</th>\n",
       "      <td>3.26</td>\n",
       "    </tr>\n",
       "    <tr>\n",
       "      <th>PS</th>\n",
       "      <td>169.49</td>\n",
       "    </tr>\n",
       "    <tr>\n",
       "      <th>SAT</th>\n",
       "      <td>3.82</td>\n",
       "    </tr>\n",
       "    <tr>\n",
       "      <th>SNES</th>\n",
       "      <td>0.22</td>\n",
       "    </tr>\n",
       "    <tr>\n",
       "      <th rowspan=\"8\" valign=\"top\">1999</th>\n",
       "      <th>DC</th>\n",
       "      <td>5.16</td>\n",
       "    </tr>\n",
       "    <tr>\n",
       "      <th>GB</th>\n",
       "      <td>38.00</td>\n",
       "    </tr>\n",
       "    <tr>\n",
       "      <th>N64</th>\n",
       "      <td>58.01</td>\n",
       "    </tr>\n",
       "    <tr>\n",
       "      <th>PC</th>\n",
       "      <td>4.74</td>\n",
       "    </tr>\n",
       "    <tr>\n",
       "      <th>PS</th>\n",
       "      <td>144.53</td>\n",
       "    </tr>\n",
       "    <tr>\n",
       "      <th>SAT</th>\n",
       "      <td>0.09</td>\n",
       "    </tr>\n",
       "    <tr>\n",
       "      <th>SNES</th>\n",
       "      <td>0.26</td>\n",
       "    </tr>\n",
       "    <tr>\n",
       "      <th>WS</th>\n",
       "      <td>0.46</td>\n",
       "    </tr>\n",
       "    <tr>\n",
       "      <th rowspan=\"10\" valign=\"top\">2000</th>\n",
       "      <th>3DS</th>\n",
       "      <td>0.02</td>\n",
       "    </tr>\n",
       "    <tr>\n",
       "      <th>DC</th>\n",
       "      <td>5.99</td>\n",
       "    </tr>\n",
       "    <tr>\n",
       "      <th>GB</th>\n",
       "      <td>19.76</td>\n",
       "    </tr>\n",
       "    <tr>\n",
       "      <th>GBA</th>\n",
       "      <td>0.07</td>\n",
       "    </tr>\n",
       "    <tr>\n",
       "      <th>N64</th>\n",
       "      <td>33.97</td>\n",
       "    </tr>\n",
       "    <tr>\n",
       "      <th>PC</th>\n",
       "      <td>4.66</td>\n",
       "    </tr>\n",
       "    <tr>\n",
       "      <th>PS</th>\n",
       "      <td>96.37</td>\n",
       "    </tr>\n",
       "    <tr>\n",
       "      <th>PS2</th>\n",
       "      <td>39.17</td>\n",
       "    </tr>\n",
       "    <tr>\n",
       "      <th>WS</th>\n",
       "      <td>0.68</td>\n",
       "    </tr>\n",
       "    <tr>\n",
       "      <th>XB</th>\n",
       "      <td>0.99</td>\n",
       "    </tr>\n",
       "    <tr>\n",
       "      <th rowspan=\"10\" valign=\"top\">2001</th>\n",
       "      <th>DC</th>\n",
       "      <td>1.07</td>\n",
       "    </tr>\n",
       "    <tr>\n",
       "      <th>GB</th>\n",
       "      <td>9.24</td>\n",
       "    </tr>\n",
       "    <tr>\n",
       "      <th>GBA</th>\n",
       "      <td>61.53</td>\n",
       "    </tr>\n",
       "    <tr>\n",
       "      <th>GC</th>\n",
       "      <td>26.62</td>\n",
       "    </tr>\n",
       "    <tr>\n",
       "      <th>N64</th>\n",
       "      <td>3.25</td>\n",
       "    </tr>\n",
       "    <tr>\n",
       "      <th>PC</th>\n",
       "      <td>5.47</td>\n",
       "    </tr>\n",
       "    <tr>\n",
       "      <th>PS</th>\n",
       "      <td>35.59</td>\n",
       "    </tr>\n",
       "    <tr>\n",
       "      <th>PS2</th>\n",
       "      <td>166.43</td>\n",
       "    </tr>\n",
       "    <tr>\n",
       "      <th>WS</th>\n",
       "      <td>0.28</td>\n",
       "    </tr>\n",
       "    <tr>\n",
       "      <th>XB</th>\n",
       "      <td>23.82</td>\n",
       "    </tr>\n",
       "    <tr>\n",
       "      <th rowspan=\"8\" valign=\"top\">2002</th>\n",
       "      <th>DC</th>\n",
       "      <td>0.29</td>\n",
       "    </tr>\n",
       "    <tr>\n",
       "      <th>GBA</th>\n",
       "      <td>74.16</td>\n",
       "    </tr>\n",
       "    <tr>\n",
       "      <th>GC</th>\n",
       "      <td>52.29</td>\n",
       "    </tr>\n",
       "    <tr>\n",
       "      <th>N64</th>\n",
       "      <td>0.08</td>\n",
       "    </tr>\n",
       "    <tr>\n",
       "      <th>PC</th>\n",
       "      <td>8.57</td>\n",
       "    </tr>\n",
       "    <tr>\n",
       "      <th>PS</th>\n",
       "      <td>6.67</td>\n",
       "    </tr>\n",
       "    <tr>\n",
       "      <th>PS2</th>\n",
       "      <td>208.36</td>\n",
       "    </tr>\n",
       "    <tr>\n",
       "      <th>XB</th>\n",
       "      <td>51.00</td>\n",
       "    </tr>\n",
       "    <tr>\n",
       "      <th rowspan=\"6\" valign=\"top\">2003</th>\n",
       "      <th>GBA</th>\n",
       "      <td>56.67</td>\n",
       "    </tr>\n",
       "    <tr>\n",
       "      <th>GC</th>\n",
       "      <td>51.20</td>\n",
       "    </tr>\n",
       "    <tr>\n",
       "      <th>PC</th>\n",
       "      <td>8.89</td>\n",
       "    </tr>\n",
       "    <tr>\n",
       "      <th>PS</th>\n",
       "      <td>2.07</td>\n",
       "    </tr>\n",
       "    <tr>\n",
       "      <th>PS2</th>\n",
       "      <td>193.05</td>\n",
       "    </tr>\n",
       "    <tr>\n",
       "      <th>XB</th>\n",
       "      <td>55.05</td>\n",
       "    </tr>\n",
       "    <tr>\n",
       "      <th rowspan=\"8\" valign=\"top\">2004</th>\n",
       "      <th>DS</th>\n",
       "      <td>17.27</td>\n",
       "    </tr>\n",
       "    <tr>\n",
       "      <th>GBA</th>\n",
       "      <td>77.91</td>\n",
       "    </tr>\n",
       "    <tr>\n",
       "      <th>GC</th>\n",
       "      <td>28.82</td>\n",
       "    </tr>\n",
       "    <tr>\n",
       "      <th>N64</th>\n",
       "      <td>0.33</td>\n",
       "    </tr>\n",
       "    <tr>\n",
       "      <th>PC</th>\n",
       "      <td>10.39</td>\n",
       "    </tr>\n",
       "    <tr>\n",
       "      <th>PS2</th>\n",
       "      <td>211.81</td>\n",
       "    </tr>\n",
       "    <tr>\n",
       "      <th>PSP</th>\n",
       "      <td>7.06</td>\n",
       "    </tr>\n",
       "    <tr>\n",
       "      <th>XB</th>\n",
       "      <td>65.97</td>\n",
       "    </tr>\n",
       "    <tr>\n",
       "      <th rowspan=\"9\" valign=\"top\">2005</th>\n",
       "      <th>DS</th>\n",
       "      <td>130.14</td>\n",
       "    </tr>\n",
       "    <tr>\n",
       "      <th>GBA</th>\n",
       "      <td>34.53</td>\n",
       "    </tr>\n",
       "    <tr>\n",
       "      <th>GC</th>\n",
       "      <td>27.91</td>\n",
       "    </tr>\n",
       "    <tr>\n",
       "      <th>PC</th>\n",
       "      <td>4.38</td>\n",
       "    </tr>\n",
       "    <tr>\n",
       "      <th>PS2</th>\n",
       "      <td>160.66</td>\n",
       "    </tr>\n",
       "    <tr>\n",
       "      <th>PS3</th>\n",
       "      <td>0.19</td>\n",
       "    </tr>\n",
       "    <tr>\n",
       "      <th>PSP</th>\n",
       "      <td>43.84</td>\n",
       "    </tr>\n",
       "    <tr>\n",
       "      <th>X360</th>\n",
       "      <td>9.22</td>\n",
       "    </tr>\n",
       "    <tr>\n",
       "      <th>XB</th>\n",
       "      <td>49.09</td>\n",
       "    </tr>\n",
       "    <tr>\n",
       "      <th rowspan=\"10\" valign=\"top\">2006</th>\n",
       "      <th>DS</th>\n",
       "      <td>119.81</td>\n",
       "    </tr>\n",
       "    <tr>\n",
       "      <th>GBA</th>\n",
       "      <td>5.46</td>\n",
       "    </tr>\n",
       "    <tr>\n",
       "      <th>GC</th>\n",
       "      <td>11.55</td>\n",
       "    </tr>\n",
       "    <tr>\n",
       "      <th>PC</th>\n",
       "      <td>2.85</td>\n",
       "    </tr>\n",
       "    <tr>\n",
       "      <th>PS2</th>\n",
       "      <td>104.24</td>\n",
       "    </tr>\n",
       "    <tr>\n",
       "      <th>PS3</th>\n",
       "      <td>21.44</td>\n",
       "    </tr>\n",
       "    <tr>\n",
       "      <th>PSP</th>\n",
       "      <td>56.28</td>\n",
       "    </tr>\n",
       "    <tr>\n",
       "      <th>Wii</th>\n",
       "      <td>140.19</td>\n",
       "    </tr>\n",
       "    <tr>\n",
       "      <th>X360</th>\n",
       "      <td>51.79</td>\n",
       "    </tr>\n",
       "    <tr>\n",
       "      <th>XB</th>\n",
       "      <td>10.04</td>\n",
       "    </tr>\n",
       "    <tr>\n",
       "      <th rowspan=\"11\" valign=\"top\">2007</th>\n",
       "      <th>DC</th>\n",
       "      <td>0.02</td>\n",
       "    </tr>\n",
       "    <tr>\n",
       "      <th>DS</th>\n",
       "      <td>147.23</td>\n",
       "    </tr>\n",
       "    <tr>\n",
       "      <th>GBA</th>\n",
       "      <td>3.40</td>\n",
       "    </tr>\n",
       "    <tr>\n",
       "      <th>GC</th>\n",
       "      <td>0.27</td>\n",
       "    </tr>\n",
       "    <tr>\n",
       "      <th>PC</th>\n",
       "      <td>9.28</td>\n",
       "    </tr>\n",
       "    <tr>\n",
       "      <th>PS2</th>\n",
       "      <td>76.10</td>\n",
       "    </tr>\n",
       "    <tr>\n",
       "      <th>PS3</th>\n",
       "      <td>73.19</td>\n",
       "    </tr>\n",
       "    <tr>\n",
       "      <th>PSP</th>\n",
       "      <td>47.30</td>\n",
       "    </tr>\n",
       "    <tr>\n",
       "      <th>Wii</th>\n",
       "      <td>153.41</td>\n",
       "    </tr>\n",
       "    <tr>\n",
       "      <th>X360</th>\n",
       "      <td>95.41</td>\n",
       "    </tr>\n",
       "    <tr>\n",
       "      <th>XB</th>\n",
       "      <td>0.55</td>\n",
       "    </tr>\n",
       "    <tr>\n",
       "      <th rowspan=\"9\" valign=\"top\">2008</th>\n",
       "      <th>DC</th>\n",
       "      <td>0.04</td>\n",
       "    </tr>\n",
       "    <tr>\n",
       "      <th>DS</th>\n",
       "      <td>145.36</td>\n",
       "    </tr>\n",
       "    <tr>\n",
       "      <th>PC</th>\n",
       "      <td>12.46</td>\n",
       "    </tr>\n",
       "    <tr>\n",
       "      <th>PS2</th>\n",
       "      <td>53.90</td>\n",
       "    </tr>\n",
       "    <tr>\n",
       "      <th>PS3</th>\n",
       "      <td>118.79</td>\n",
       "    </tr>\n",
       "    <tr>\n",
       "      <th>PSP</th>\n",
       "      <td>36.76</td>\n",
       "    </tr>\n",
       "    <tr>\n",
       "      <th>Wii</th>\n",
       "      <td>177.68</td>\n",
       "    </tr>\n",
       "    <tr>\n",
       "      <th>X360</th>\n",
       "      <td>136.07</td>\n",
       "    </tr>\n",
       "    <tr>\n",
       "      <th>XB</th>\n",
       "      <td>0.18</td>\n",
       "    </tr>\n",
       "    <tr>\n",
       "      <th rowspan=\"7\" valign=\"top\">2009</th>\n",
       "      <th>DS</th>\n",
       "      <td>119.56</td>\n",
       "    </tr>\n",
       "    <tr>\n",
       "      <th>PC</th>\n",
       "      <td>17.05</td>\n",
       "    </tr>\n",
       "    <tr>\n",
       "      <th>PS2</th>\n",
       "      <td>26.40</td>\n",
       "    </tr>\n",
       "    <tr>\n",
       "      <th>PS3</th>\n",
       "      <td>130.93</td>\n",
       "    </tr>\n",
       "    <tr>\n",
       "      <th>PSP</th>\n",
       "      <td>37.78</td>\n",
       "    </tr>\n",
       "    <tr>\n",
       "      <th>Wii</th>\n",
       "      <td>206.97</td>\n",
       "    </tr>\n",
       "    <tr>\n",
       "      <th>X360</th>\n",
       "      <td>120.82</td>\n",
       "    </tr>\n",
       "    <tr>\n",
       "      <th rowspan=\"8\" valign=\"top\">2010</th>\n",
       "      <th>3DS</th>\n",
       "      <td>0.30</td>\n",
       "    </tr>\n",
       "    <tr>\n",
       "      <th>DS</th>\n",
       "      <td>85.35</td>\n",
       "    </tr>\n",
       "    <tr>\n",
       "      <th>PC</th>\n",
       "      <td>26.15</td>\n",
       "    </tr>\n",
       "    <tr>\n",
       "      <th>PS2</th>\n",
       "      <td>6.59</td>\n",
       "    </tr>\n",
       "    <tr>\n",
       "      <th>PS3</th>\n",
       "      <td>142.96</td>\n",
       "    </tr>\n",
       "    <tr>\n",
       "      <th>PSP</th>\n",
       "      <td>35.04</td>\n",
       "    </tr>\n",
       "    <tr>\n",
       "      <th>Wii</th>\n",
       "      <td>128.67</td>\n",
       "    </tr>\n",
       "    <tr>\n",
       "      <th>X360</th>\n",
       "      <td>170.55</td>\n",
       "    </tr>\n",
       "    <tr>\n",
       "      <th rowspan=\"9\" valign=\"top\">2011</th>\n",
       "      <th>3DS</th>\n",
       "      <td>63.20</td>\n",
       "    </tr>\n",
       "    <tr>\n",
       "      <th>DS</th>\n",
       "      <td>26.33</td>\n",
       "    </tr>\n",
       "    <tr>\n",
       "      <th>PC</th>\n",
       "      <td>35.16</td>\n",
       "    </tr>\n",
       "    <tr>\n",
       "      <th>PS2</th>\n",
       "      <td>0.45</td>\n",
       "    </tr>\n",
       "    <tr>\n",
       "      <th>PS3</th>\n",
       "      <td>157.98</td>\n",
       "    </tr>\n",
       "    <tr>\n",
       "      <th>PSP</th>\n",
       "      <td>17.82</td>\n",
       "    </tr>\n",
       "    <tr>\n",
       "      <th>PSV</th>\n",
       "      <td>4.63</td>\n",
       "    </tr>\n",
       "    <tr>\n",
       "      <th>Wii</th>\n",
       "      <td>59.79</td>\n",
       "    </tr>\n",
       "    <tr>\n",
       "      <th>X360</th>\n",
       "      <td>145.23</td>\n",
       "    </tr>\n",
       "    <tr>\n",
       "      <th rowspan=\"9\" valign=\"top\">2012</th>\n",
       "      <th>3DS</th>\n",
       "      <td>51.76</td>\n",
       "    </tr>\n",
       "    <tr>\n",
       "      <th>DS</th>\n",
       "      <td>11.67</td>\n",
       "    </tr>\n",
       "    <tr>\n",
       "      <th>PC</th>\n",
       "      <td>23.45</td>\n",
       "    </tr>\n",
       "    <tr>\n",
       "      <th>PS3</th>\n",
       "      <td>108.28</td>\n",
       "    </tr>\n",
       "    <tr>\n",
       "      <th>PSP</th>\n",
       "      <td>7.95</td>\n",
       "    </tr>\n",
       "    <tr>\n",
       "      <th>PSV</th>\n",
       "      <td>16.19</td>\n",
       "    </tr>\n",
       "    <tr>\n",
       "      <th>Wii</th>\n",
       "      <td>22.94</td>\n",
       "    </tr>\n",
       "    <tr>\n",
       "      <th>WiiU</th>\n",
       "      <td>17.56</td>\n",
       "    </tr>\n",
       "    <tr>\n",
       "      <th>X360</th>\n",
       "      <td>100.72</td>\n",
       "    </tr>\n",
       "    <tr>\n",
       "      <th rowspan=\"11\" valign=\"top\">2013</th>\n",
       "      <th>3DS</th>\n",
       "      <td>56.57</td>\n",
       "    </tr>\n",
       "    <tr>\n",
       "      <th>DS</th>\n",
       "      <td>1.54</td>\n",
       "    </tr>\n",
       "    <tr>\n",
       "      <th>PC</th>\n",
       "      <td>13.01</td>\n",
       "    </tr>\n",
       "    <tr>\n",
       "      <th>PS3</th>\n",
       "      <td>113.25</td>\n",
       "    </tr>\n",
       "    <tr>\n",
       "      <th>PS4</th>\n",
       "      <td>25.99</td>\n",
       "    </tr>\n",
       "    <tr>\n",
       "      <th>PSP</th>\n",
       "      <td>3.38</td>\n",
       "    </tr>\n",
       "    <tr>\n",
       "      <th>PSV</th>\n",
       "      <td>10.59</td>\n",
       "    </tr>\n",
       "    <tr>\n",
       "      <th>Wii</th>\n",
       "      <td>8.59</td>\n",
       "    </tr>\n",
       "    <tr>\n",
       "      <th>WiiU</th>\n",
       "      <td>21.65</td>\n",
       "    </tr>\n",
       "    <tr>\n",
       "      <th>X360</th>\n",
       "      <td>88.58</td>\n",
       "    </tr>\n",
       "    <tr>\n",
       "      <th>XOne</th>\n",
       "      <td>18.96</td>\n",
       "    </tr>\n",
       "    <tr>\n",
       "      <th rowspan=\"10\" valign=\"top\">2014</th>\n",
       "      <th>3DS</th>\n",
       "      <td>43.76</td>\n",
       "    </tr>\n",
       "    <tr>\n",
       "      <th>PC</th>\n",
       "      <td>13.28</td>\n",
       "    </tr>\n",
       "    <tr>\n",
       "      <th>PS3</th>\n",
       "      <td>47.76</td>\n",
       "    </tr>\n",
       "    <tr>\n",
       "      <th>PS4</th>\n",
       "      <td>100.00</td>\n",
       "    </tr>\n",
       "    <tr>\n",
       "      <th>PSP</th>\n",
       "      <td>0.24</td>\n",
       "    </tr>\n",
       "    <tr>\n",
       "      <th>PSV</th>\n",
       "      <td>11.90</td>\n",
       "    </tr>\n",
       "    <tr>\n",
       "      <th>Wii</th>\n",
       "      <td>3.75</td>\n",
       "    </tr>\n",
       "    <tr>\n",
       "      <th>WiiU</th>\n",
       "      <td>22.03</td>\n",
       "    </tr>\n",
       "    <tr>\n",
       "      <th>X360</th>\n",
       "      <td>34.74</td>\n",
       "    </tr>\n",
       "    <tr>\n",
       "      <th>XOne</th>\n",
       "      <td>54.07</td>\n",
       "    </tr>\n",
       "    <tr>\n",
       "      <th rowspan=\"10\" valign=\"top\">2015</th>\n",
       "      <th>3DS</th>\n",
       "      <td>27.78</td>\n",
       "    </tr>\n",
       "    <tr>\n",
       "      <th>PC</th>\n",
       "      <td>8.52</td>\n",
       "    </tr>\n",
       "    <tr>\n",
       "      <th>PS3</th>\n",
       "      <td>16.82</td>\n",
       "    </tr>\n",
       "    <tr>\n",
       "      <th>PS4</th>\n",
       "      <td>118.90</td>\n",
       "    </tr>\n",
       "    <tr>\n",
       "      <th>PSP</th>\n",
       "      <td>0.12</td>\n",
       "    </tr>\n",
       "    <tr>\n",
       "      <th>PSV</th>\n",
       "      <td>6.25</td>\n",
       "    </tr>\n",
       "    <tr>\n",
       "      <th>Wii</th>\n",
       "      <td>1.14</td>\n",
       "    </tr>\n",
       "    <tr>\n",
       "      <th>WiiU</th>\n",
       "      <td>16.35</td>\n",
       "    </tr>\n",
       "    <tr>\n",
       "      <th>X360</th>\n",
       "      <td>11.96</td>\n",
       "    </tr>\n",
       "    <tr>\n",
       "      <th>XOne</th>\n",
       "      <td>60.14</td>\n",
       "    </tr>\n",
       "    <tr>\n",
       "      <th rowspan=\"9\" valign=\"top\">2016</th>\n",
       "      <th>3DS</th>\n",
       "      <td>15.14</td>\n",
       "    </tr>\n",
       "    <tr>\n",
       "      <th>PC</th>\n",
       "      <td>5.25</td>\n",
       "    </tr>\n",
       "    <tr>\n",
       "      <th>PS3</th>\n",
       "      <td>3.60</td>\n",
       "    </tr>\n",
       "    <tr>\n",
       "      <th>PS4</th>\n",
       "      <td>69.25</td>\n",
       "    </tr>\n",
       "    <tr>\n",
       "      <th>PSV</th>\n",
       "      <td>4.25</td>\n",
       "    </tr>\n",
       "    <tr>\n",
       "      <th>Wii</th>\n",
       "      <td>0.18</td>\n",
       "    </tr>\n",
       "    <tr>\n",
       "      <th>WiiU</th>\n",
       "      <td>4.60</td>\n",
       "    </tr>\n",
       "    <tr>\n",
       "      <th>X360</th>\n",
       "      <td>1.52</td>\n",
       "    </tr>\n",
       "    <tr>\n",
       "      <th>XOne</th>\n",
       "      <td>26.15</td>\n",
       "    </tr>\n",
       "  </tbody>\n",
       "</table>\n",
       "</div>"
      ],
      "text/plain": [
       "                          all_sales\n",
       "year_of_release platform           \n",
       "1980            2600          11.38\n",
       "1981            2600          35.68\n",
       "1982            2600          28.88\n",
       "1983            2600           5.84\n",
       "                NES           10.96\n",
       "1984            2600           0.27\n",
       "                NES           50.08\n",
       "1985            2600           0.45\n",
       "                DS             0.02\n",
       "                NES           53.44\n",
       "                PC             0.04\n",
       "1986            2600           0.67\n",
       "                NES           36.41\n",
       "1987            2600           1.94\n",
       "                NES           19.76\n",
       "1988            2600           0.74\n",
       "                GB             1.43\n",
       "                NES           45.01\n",
       "                PC             0.03\n",
       "1989            2600           0.63\n",
       "                GB            64.97\n",
       "                NES            7.85\n",
       "1990            GB             4.89\n",
       "                GEN            2.60\n",
       "                NES           15.73\n",
       "                SNES          26.15\n",
       "1991            GB             5.57\n",
       "                GEN            4.33\n",
       "                NES            6.11\n",
       "                SNES          16.22\n",
       "1992            GB            25.49\n",
       "                GEN           12.64\n",
       "                GG             0.04\n",
       "                NES            1.98\n",
       "                PC             3.03\n",
       "                SNES          32.98\n",
       "1993            GEN            0.65\n",
       "                NES            3.61\n",
       "                NG             0.21\n",
       "                SCD            1.50\n",
       "                SNES          40.02\n",
       "1994            2600           2.53\n",
       "                3DO            0.02\n",
       "                GB            12.18\n",
       "                GEN            8.13\n",
       "                NES            0.11\n",
       "                NG             0.80\n",
       "                PC            12.87\n",
       "                PS             6.03\n",
       "                SAT            3.65\n",
       "                SCD            0.36\n",
       "                SNES          35.08\n",
       "1995            3DO            0.08\n",
       "                GB             3.60\n",
       "                NG             0.33\n",
       "                PC             4.22\n",
       "                PS            35.96\n",
       "                SAT           11.57\n",
       "                SNES          32.20\n",
       "                TG16           0.16\n",
       "1996            GB            36.03\n",
       "                N64           34.10\n",
       "                NG             0.10\n",
       "                PC            10.58\n",
       "                PCFX           0.03\n",
       "                PS            94.70\n",
       "                SAT            7.69\n",
       "                SNES          15.92\n",
       "1997            GB             6.37\n",
       "                N64           39.50\n",
       "                PC            11.27\n",
       "                PS           136.17\n",
       "                SAT            6.77\n",
       "                SNES           0.99\n",
       "1998            DC             3.38\n",
       "                GB            26.90\n",
       "                N64           49.24\n",
       "                PC             3.26\n",
       "                PS           169.49\n",
       "                SAT            3.82\n",
       "                SNES           0.22\n",
       "1999            DC             5.16\n",
       "                GB            38.00\n",
       "                N64           58.01\n",
       "                PC             4.74\n",
       "                PS           144.53\n",
       "                SAT            0.09\n",
       "                SNES           0.26\n",
       "                WS             0.46\n",
       "2000            3DS            0.02\n",
       "                DC             5.99\n",
       "                GB            19.76\n",
       "                GBA            0.07\n",
       "                N64           33.97\n",
       "                PC             4.66\n",
       "                PS            96.37\n",
       "                PS2           39.17\n",
       "                WS             0.68\n",
       "                XB             0.99\n",
       "2001            DC             1.07\n",
       "                GB             9.24\n",
       "                GBA           61.53\n",
       "                GC            26.62\n",
       "                N64            3.25\n",
       "                PC             5.47\n",
       "                PS            35.59\n",
       "                PS2          166.43\n",
       "                WS             0.28\n",
       "                XB            23.82\n",
       "2002            DC             0.29\n",
       "                GBA           74.16\n",
       "                GC            52.29\n",
       "                N64            0.08\n",
       "                PC             8.57\n",
       "                PS             6.67\n",
       "                PS2          208.36\n",
       "                XB            51.00\n",
       "2003            GBA           56.67\n",
       "                GC            51.20\n",
       "                PC             8.89\n",
       "                PS             2.07\n",
       "                PS2          193.05\n",
       "                XB            55.05\n",
       "2004            DS            17.27\n",
       "                GBA           77.91\n",
       "                GC            28.82\n",
       "                N64            0.33\n",
       "                PC            10.39\n",
       "                PS2          211.81\n",
       "                PSP            7.06\n",
       "                XB            65.97\n",
       "2005            DS           130.14\n",
       "                GBA           34.53\n",
       "                GC            27.91\n",
       "                PC             4.38\n",
       "                PS2          160.66\n",
       "                PS3            0.19\n",
       "                PSP           43.84\n",
       "                X360           9.22\n",
       "                XB            49.09\n",
       "2006            DS           119.81\n",
       "                GBA            5.46\n",
       "                GC            11.55\n",
       "                PC             2.85\n",
       "                PS2          104.24\n",
       "                PS3           21.44\n",
       "                PSP           56.28\n",
       "                Wii          140.19\n",
       "                X360          51.79\n",
       "                XB            10.04\n",
       "2007            DC             0.02\n",
       "                DS           147.23\n",
       "                GBA            3.40\n",
       "                GC             0.27\n",
       "                PC             9.28\n",
       "                PS2           76.10\n",
       "                PS3           73.19\n",
       "                PSP           47.30\n",
       "                Wii          153.41\n",
       "                X360          95.41\n",
       "                XB             0.55\n",
       "2008            DC             0.04\n",
       "                DS           145.36\n",
       "                PC            12.46\n",
       "                PS2           53.90\n",
       "                PS3          118.79\n",
       "                PSP           36.76\n",
       "                Wii          177.68\n",
       "                X360         136.07\n",
       "                XB             0.18\n",
       "2009            DS           119.56\n",
       "                PC            17.05\n",
       "                PS2           26.40\n",
       "                PS3          130.93\n",
       "                PSP           37.78\n",
       "                Wii          206.97\n",
       "                X360         120.82\n",
       "2010            3DS            0.30\n",
       "                DS            85.35\n",
       "                PC            26.15\n",
       "                PS2            6.59\n",
       "                PS3          142.96\n",
       "                PSP           35.04\n",
       "                Wii          128.67\n",
       "                X360         170.55\n",
       "2011            3DS           63.20\n",
       "                DS            26.33\n",
       "                PC            35.16\n",
       "                PS2            0.45\n",
       "                PS3          157.98\n",
       "                PSP           17.82\n",
       "                PSV            4.63\n",
       "                Wii           59.79\n",
       "                X360         145.23\n",
       "2012            3DS           51.76\n",
       "                DS            11.67\n",
       "                PC            23.45\n",
       "                PS3          108.28\n",
       "                PSP            7.95\n",
       "                PSV           16.19\n",
       "                Wii           22.94\n",
       "                WiiU          17.56\n",
       "                X360         100.72\n",
       "2013            3DS           56.57\n",
       "                DS             1.54\n",
       "                PC            13.01\n",
       "                PS3          113.25\n",
       "                PS4           25.99\n",
       "                PSP            3.38\n",
       "                PSV           10.59\n",
       "                Wii            8.59\n",
       "                WiiU          21.65\n",
       "                X360          88.58\n",
       "                XOne          18.96\n",
       "2014            3DS           43.76\n",
       "                PC            13.28\n",
       "                PS3           47.76\n",
       "                PS4          100.00\n",
       "                PSP            0.24\n",
       "                PSV           11.90\n",
       "                Wii            3.75\n",
       "                WiiU          22.03\n",
       "                X360          34.74\n",
       "                XOne          54.07\n",
       "2015            3DS           27.78\n",
       "                PC             8.52\n",
       "                PS3           16.82\n",
       "                PS4          118.90\n",
       "                PSP            0.12\n",
       "                PSV            6.25\n",
       "                Wii            1.14\n",
       "                WiiU          16.35\n",
       "                X360          11.96\n",
       "                XOne          60.14\n",
       "2016            3DS           15.14\n",
       "                PC             5.25\n",
       "                PS3            3.60\n",
       "                PS4           69.25\n",
       "                PSV            4.25\n",
       "                Wii            0.18\n",
       "                WiiU           4.60\n",
       "                X360           1.52\n",
       "                XOne          26.15"
      ]
     },
     "execution_count": 41,
     "metadata": {},
     "output_type": "execute_result"
    }
   ],
   "source": [
    "pd.set_option('display.max_rows', None)\n",
    " \n",
    "pd.set_option('display.max_columns', None)\n",
    " \n",
    "pd.set_option('display.max_colwidth', None)\n",
    "\n",
    "data.pivot_table(index=['year_of_release', 'platform'], values='all_sales', aggfunc='sum')"
   ]
  },
  {
   "cell_type": "markdown",
   "metadata": {},
   "source": [
    "Посмотрим рейтинг количества продаж по всем платформам"
   ]
  },
  {
   "cell_type": "code",
   "execution_count": 42,
   "metadata": {},
   "outputs": [
    {
     "data": {
      "text/html": [
       "<div>\n",
       "<style scoped>\n",
       "    .dataframe tbody tr th:only-of-type {\n",
       "        vertical-align: middle;\n",
       "    }\n",
       "\n",
       "    .dataframe tbody tr th {\n",
       "        vertical-align: top;\n",
       "    }\n",
       "\n",
       "    .dataframe thead th {\n",
       "        text-align: right;\n",
       "    }\n",
       "</style>\n",
       "<table border=\"1\" class=\"dataframe\">\n",
       "  <thead>\n",
       "    <tr style=\"text-align: right;\">\n",
       "      <th></th>\n",
       "      <th>all_sales</th>\n",
       "    </tr>\n",
       "    <tr>\n",
       "      <th>platform</th>\n",
       "      <th></th>\n",
       "    </tr>\n",
       "  </thead>\n",
       "  <tbody>\n",
       "    <tr>\n",
       "      <th>PCFX</th>\n",
       "      <td>0.03</td>\n",
       "    </tr>\n",
       "    <tr>\n",
       "      <th>GG</th>\n",
       "      <td>0.04</td>\n",
       "    </tr>\n",
       "    <tr>\n",
       "      <th>3DO</th>\n",
       "      <td>0.10</td>\n",
       "    </tr>\n",
       "    <tr>\n",
       "      <th>TG16</th>\n",
       "      <td>0.16</td>\n",
       "    </tr>\n",
       "    <tr>\n",
       "      <th>WS</th>\n",
       "      <td>1.42</td>\n",
       "    </tr>\n",
       "    <tr>\n",
       "      <th>NG</th>\n",
       "      <td>1.44</td>\n",
       "    </tr>\n",
       "    <tr>\n",
       "      <th>SCD</th>\n",
       "      <td>1.86</td>\n",
       "    </tr>\n",
       "    <tr>\n",
       "      <th>DC</th>\n",
       "      <td>15.95</td>\n",
       "    </tr>\n",
       "    <tr>\n",
       "      <th>GEN</th>\n",
       "      <td>28.35</td>\n",
       "    </tr>\n",
       "    <tr>\n",
       "      <th>SAT</th>\n",
       "      <td>33.59</td>\n",
       "    </tr>\n",
       "    <tr>\n",
       "      <th>PSV</th>\n",
       "      <td>53.81</td>\n",
       "    </tr>\n",
       "    <tr>\n",
       "      <th>WiiU</th>\n",
       "      <td>82.19</td>\n",
       "    </tr>\n",
       "    <tr>\n",
       "      <th>2600</th>\n",
       "      <td>89.01</td>\n",
       "    </tr>\n",
       "    <tr>\n",
       "      <th>XOne</th>\n",
       "      <td>159.32</td>\n",
       "    </tr>\n",
       "    <tr>\n",
       "      <th>GC</th>\n",
       "      <td>198.66</td>\n",
       "    </tr>\n",
       "    <tr>\n",
       "      <th>SNES</th>\n",
       "      <td>200.04</td>\n",
       "    </tr>\n",
       "    <tr>\n",
       "      <th>N64</th>\n",
       "      <td>218.48</td>\n",
       "    </tr>\n",
       "    <tr>\n",
       "      <th>NES</th>\n",
       "      <td>251.05</td>\n",
       "    </tr>\n",
       "    <tr>\n",
       "      <th>GB</th>\n",
       "      <td>254.43</td>\n",
       "    </tr>\n",
       "    <tr>\n",
       "      <th>XB</th>\n",
       "      <td>256.69</td>\n",
       "    </tr>\n",
       "    <tr>\n",
       "      <th>3DS</th>\n",
       "      <td>258.53</td>\n",
       "    </tr>\n",
       "    <tr>\n",
       "      <th>PC</th>\n",
       "      <td>258.86</td>\n",
       "    </tr>\n",
       "    <tr>\n",
       "      <th>PSP</th>\n",
       "      <td>293.57</td>\n",
       "    </tr>\n",
       "    <tr>\n",
       "      <th>GBA</th>\n",
       "      <td>313.73</td>\n",
       "    </tr>\n",
       "    <tr>\n",
       "      <th>PS4</th>\n",
       "      <td>314.14</td>\n",
       "    </tr>\n",
       "    <tr>\n",
       "      <th>PS</th>\n",
       "      <td>727.58</td>\n",
       "    </tr>\n",
       "    <tr>\n",
       "      <th>DS</th>\n",
       "      <td>804.28</td>\n",
       "    </tr>\n",
       "    <tr>\n",
       "      <th>Wii</th>\n",
       "      <td>903.31</td>\n",
       "    </tr>\n",
       "    <tr>\n",
       "      <th>PS3</th>\n",
       "      <td>935.19</td>\n",
       "    </tr>\n",
       "    <tr>\n",
       "      <th>X360</th>\n",
       "      <td>966.61</td>\n",
       "    </tr>\n",
       "    <tr>\n",
       "      <th>PS2</th>\n",
       "      <td>1247.16</td>\n",
       "    </tr>\n",
       "  </tbody>\n",
       "</table>\n",
       "</div>"
      ],
      "text/plain": [
       "          all_sales\n",
       "platform           \n",
       "PCFX           0.03\n",
       "GG             0.04\n",
       "3DO            0.10\n",
       "TG16           0.16\n",
       "WS             1.42\n",
       "NG             1.44\n",
       "SCD            1.86\n",
       "DC            15.95\n",
       "GEN           28.35\n",
       "SAT           33.59\n",
       "PSV           53.81\n",
       "WiiU          82.19\n",
       "2600          89.01\n",
       "XOne         159.32\n",
       "GC           198.66\n",
       "SNES         200.04\n",
       "N64          218.48\n",
       "NES          251.05\n",
       "GB           254.43\n",
       "XB           256.69\n",
       "3DS          258.53\n",
       "PC           258.86\n",
       "PSP          293.57\n",
       "GBA          313.73\n",
       "PS4          314.14\n",
       "PS           727.58\n",
       "DS           804.28\n",
       "Wii          903.31\n",
       "PS3          935.19\n",
       "X360         966.61\n",
       "PS2         1247.16"
      ]
     },
     "execution_count": 42,
     "metadata": {},
     "output_type": "execute_result"
    }
   ],
   "source": [
    "data.pivot_table(index='platform', values='all_sales', aggfunc='sum').sort_values('all_sales')"
   ]
  },
  {
   "cell_type": "markdown",
   "metadata": {},
   "source": [
    "Построим распределение по годам по 10 самым продаваемым платформам"
   ]
  },
  {
   "cell_type": "code",
   "execution_count": 43,
   "metadata": {},
   "outputs": [
    {
     "data": {
      "image/png": "[encoded data removed]",
      "text/plain": [
       "<Figure size 1080x504 with 1 Axes>"
      ]
     },
     "metadata": {
      "needs_background": "light"
     },
     "output_type": "display_data"
    }
   ],
   "source": [
    "data.query('1994 <= year_of_release and platform in [\"PS2\", \"X360\", \"PS3\", \"Wii\", \"DS\", \"PS\", \"PS4\", \"GBA\", \"PSP\", \"PC\"]').pivot_table(index='year_of_release', columns = 'platform', values='all_sales', aggfunc='sum').plot(grid=True, figsize=(15, 7))\n",
    "plt.show()"
   ]
  },
  {
   "cell_type": "markdown",
   "metadata": {},
   "source": [
    "Узнаем средний срок жизни платформы с момента старта продаж первых игр и до года прекращения продаж "
   ]
  },
  {
   "cell_type": "code",
   "execution_count": 44,
   "metadata": {},
   "outputs": [],
   "source": [
    "median_year = []\n",
    "for ds_platform in data['platform'].unique():\n",
    "    start_year = data[data['platform'] == ds_platform]['year_of_release'].min()\n",
    "    end_year = data[data['platform'] == ds_platform]['year_of_release'].max()\n",
    "    median_year.append(end_year - start_year)"
   ]
  },
  {
   "cell_type": "code",
   "execution_count": 45,
   "metadata": {},
   "outputs": [
    {
     "data": {
      "text/plain": [
       "8"
      ]
     },
     "execution_count": 45,
     "metadata": {},
     "output_type": "execute_result"
    }
   ],
   "source": [
    "stat.median(median_year)"
   ]
  },
  {
   "cell_type": "markdown",
   "metadata": {},
   "source": [
    "В среднем платформы живут 8 лет."
   ]
  },
  {
   "cell_type": "markdown",
   "metadata": {},
   "source": [
    "#### Возьмите данные за соответствующий актуальный период. Актуальный период определите самостоятельно в результате исследования предыдущих вопросов. Основной фактор — эти данные помогут построить прогноз на 2017 год."
   ]
  },
  {
   "cell_type": "code",
   "execution_count": 49,
   "metadata": {},
   "outputs": [
    {
     "data": {
      "image/png": "[encoded data removed]",
      "text/plain": [
       "<Figure size 1080x504 with 1 Axes>"
      ]
     },
     "metadata": {
      "needs_background": "light"
     },
     "output_type": "display_data"
    }
   ],
   "source": [
    "data.query('2015 <= year_of_release and platform in [\"X360\", \"PS3\", \"Wii\", \"PS4\", \"PC\", \"3DS\", \"XOne\"]').pivot_table(index='year_of_release', columns = 'platform', values='all_sales', aggfunc='sum').plot(grid=True, figsize=(15, 7))\n",
    "plt.show()"
   ]
  },
  {
   "cell_type": "markdown",
   "metadata": {},
   "source": [
    "Прогноз на 2017 год такой:\n",
    "1) WII, X360 скорее всего продаж практически не будет и они уйдут с рынка\n",
    "2) Для PS3 еще какие-то продажи будут но год так же будет завершающим\n",
    "3) Для рынка PC продажи незначительно уменьшатся или останутся на том же уровнем\n",
    "4) Для PS4, 3DS, XOne нисходящий тренд, продажи уменьшатся согласно динамикт за 2015,2016 год\n",
    "Если подытожить игровая индустрия переживает не самые лучшие времена и общий тренд продаж нисходящий."
   ]
  },
  {
   "cell_type": "code",
   "execution_count": 30,
   "metadata": {},
   "outputs": [],
   "source": [
    "actual_data = data.query('2015 <= year_of_release')"
   ]
  },
  {
   "cell_type": "markdown",
   "metadata": {},
   "source": [
    "#### Какие платформы лидируют по продажам, растут или падают? Выберите несколько потенциально прибыльных платформ."
   ]
  },
  {
   "cell_type": "code",
   "execution_count": 32,
   "metadata": {},
   "outputs": [
    {
     "data": {
      "text/plain": [
       "<AxesSubplot:ylabel='platform'>"
      ]
     },
     "execution_count": 32,
     "metadata": {},
     "output_type": "execute_result"
    },
    {
     "data": {
      "image/png": "[encoded data removed]",
      "text/plain": [
       "<Figure size 1368x432 with 1 Axes>"
      ]
     },
     "metadata": {
      "needs_background": "light"
     },
     "output_type": "display_data"
    }
   ],
   "source": [
    "data.query('2016 == year_of_release').pivot_table(index='platform', values='all_sales', aggfunc='sum').plot(kind= 'barh', figsize=(19,6), rot = -5, legend = False, fontsize = 16)"
   ]
  },
  {
   "cell_type": "markdown",
   "metadata": {},
   "source": [
    "Судя по графика самые потенциально прибыльные за 2016 год это Xone, PS4 и 3DS. Исходя из предыдущего графика тренд по прибыльности у всех нисходящий."
   ]
  },
  {
   "cell_type": "markdown",
   "metadata": {},
   "source": [
    "#### Постройте график «ящик с усами» по глобальным продажам игр в разбивке по платформам. Опишите результат."
   ]
  },
  {
   "cell_type": "code",
   "execution_count": 36,
   "metadata": {},
   "outputs": [
    {
     "data": {
      "text/plain": [
       "<AxesSubplot:title={'center':'all_sales'}, xlabel='platform'>"
      ]
     },
     "execution_count": 36,
     "metadata": {},
     "output_type": "execute_result"
    },
    {
     "data": {
      "image/png": "[encoded data removed]",
      "text/plain": [
       "<Figure size 1080x1080 with 1 Axes>"
      ]
     },
     "metadata": {
      "needs_background": "light"
     },
     "output_type": "display_data"
    }
   ],
   "source": [
    "actual_data.boxplot(column='all_sales', by='platform', figsize = (15,15)) "
   ]
  },
  {
   "cell_type": "code",
   "execution_count": 37,
   "metadata": {},
   "outputs": [
    {
     "data": {
      "text/plain": [
       "<AxesSubplot:title={'center':'all_sales'}, xlabel='platform'>"
      ]
     },
     "execution_count": 37,
     "metadata": {},
     "output_type": "execute_result"
    },
    {
     "data": {
      "image/png": "[encoded data removed]",
      "text/plain": [
       "<Figure size 1080x1080 with 1 Axes>"
      ]
     },
     "metadata": {
      "needs_background": "light"
     },
     "output_type": "display_data"
    }
   ],
   "source": [
    "actual_data.boxplot(column='all_sales', by='platform', figsize = (15,15), showfliers=False) "
   ]
  },
  {
   "cell_type": "code",
   "execution_count": 39,
   "metadata": {},
   "outputs": [
    {
     "data": {
      "text/html": [
       "<div>\n",
       "<style scoped>\n",
       "    .dataframe tbody tr th:only-of-type {\n",
       "        vertical-align: middle;\n",
       "    }\n",
       "\n",
       "    .dataframe tbody tr th {\n",
       "        vertical-align: top;\n",
       "    }\n",
       "\n",
       "    .dataframe thead th {\n",
       "        text-align: right;\n",
       "    }\n",
       "</style>\n",
       "<table border=\"1\" class=\"dataframe\">\n",
       "  <thead>\n",
       "    <tr style=\"text-align: right;\">\n",
       "      <th></th>\n",
       "      <th>count</th>\n",
       "      <th>mean</th>\n",
       "      <th>std</th>\n",
       "      <th>min</th>\n",
       "      <th>25%</th>\n",
       "      <th>50%</th>\n",
       "      <th>75%</th>\n",
       "      <th>max</th>\n",
       "    </tr>\n",
       "    <tr>\n",
       "      <th>platform</th>\n",
       "      <th></th>\n",
       "      <th></th>\n",
       "      <th></th>\n",
       "      <th></th>\n",
       "      <th></th>\n",
       "      <th></th>\n",
       "      <th></th>\n",
       "      <th></th>\n",
       "    </tr>\n",
       "  </thead>\n",
       "  <tbody>\n",
       "    <tr>\n",
       "      <th>3DS</th>\n",
       "      <td>132.0</td>\n",
       "      <td>0.325152</td>\n",
       "      <td>0.798620</td>\n",
       "      <td>0.01</td>\n",
       "      <td>0.030</td>\n",
       "      <td>0.090</td>\n",
       "      <td>0.2325</td>\n",
       "      <td>7.14</td>\n",
       "    </tr>\n",
       "    <tr>\n",
       "      <th>PC</th>\n",
       "      <td>104.0</td>\n",
       "      <td>0.132404</td>\n",
       "      <td>0.209449</td>\n",
       "      <td>0.01</td>\n",
       "      <td>0.020</td>\n",
       "      <td>0.050</td>\n",
       "      <td>0.1425</td>\n",
       "      <td>1.28</td>\n",
       "    </tr>\n",
       "    <tr>\n",
       "      <th>PS3</th>\n",
       "      <td>111.0</td>\n",
       "      <td>0.183964</td>\n",
       "      <td>0.342696</td>\n",
       "      <td>0.01</td>\n",
       "      <td>0.020</td>\n",
       "      <td>0.060</td>\n",
       "      <td>0.1600</td>\n",
       "      <td>2.70</td>\n",
       "    </tr>\n",
       "    <tr>\n",
       "      <th>PS4</th>\n",
       "      <td>301.0</td>\n",
       "      <td>0.625083</td>\n",
       "      <td>1.457063</td>\n",
       "      <td>0.01</td>\n",
       "      <td>0.050</td>\n",
       "      <td>0.120</td>\n",
       "      <td>0.4200</td>\n",
       "      <td>14.63</td>\n",
       "    </tr>\n",
       "    <tr>\n",
       "      <th>PSP</th>\n",
       "      <td>3.0</td>\n",
       "      <td>0.040000</td>\n",
       "      <td>0.034641</td>\n",
       "      <td>0.02</td>\n",
       "      <td>0.020</td>\n",
       "      <td>0.020</td>\n",
       "      <td>0.0500</td>\n",
       "      <td>0.08</td>\n",
       "    </tr>\n",
       "    <tr>\n",
       "      <th>PSV</th>\n",
       "      <td>195.0</td>\n",
       "      <td>0.053846</td>\n",
       "      <td>0.063669</td>\n",
       "      <td>0.01</td>\n",
       "      <td>0.020</td>\n",
       "      <td>0.030</td>\n",
       "      <td>0.0600</td>\n",
       "      <td>0.41</td>\n",
       "    </tr>\n",
       "    <tr>\n",
       "      <th>Wii</th>\n",
       "      <td>5.0</td>\n",
       "      <td>0.264000</td>\n",
       "      <td>0.390487</td>\n",
       "      <td>0.01</td>\n",
       "      <td>0.030</td>\n",
       "      <td>0.150</td>\n",
       "      <td>0.1800</td>\n",
       "      <td>0.95</td>\n",
       "    </tr>\n",
       "    <tr>\n",
       "      <th>WiiU</th>\n",
       "      <td>42.0</td>\n",
       "      <td>0.498810</td>\n",
       "      <td>0.850240</td>\n",
       "      <td>0.01</td>\n",
       "      <td>0.050</td>\n",
       "      <td>0.215</td>\n",
       "      <td>0.5175</td>\n",
       "      <td>4.44</td>\n",
       "    </tr>\n",
       "    <tr>\n",
       "      <th>X360</th>\n",
       "      <td>48.0</td>\n",
       "      <td>0.280833</td>\n",
       "      <td>0.381207</td>\n",
       "      <td>0.01</td>\n",
       "      <td>0.040</td>\n",
       "      <td>0.110</td>\n",
       "      <td>0.3525</td>\n",
       "      <td>1.70</td>\n",
       "    </tr>\n",
       "    <tr>\n",
       "      <th>XOne</th>\n",
       "      <td>167.0</td>\n",
       "      <td>0.516707</td>\n",
       "      <td>0.965940</td>\n",
       "      <td>0.01</td>\n",
       "      <td>0.035</td>\n",
       "      <td>0.130</td>\n",
       "      <td>0.5550</td>\n",
       "      <td>7.39</td>\n",
       "    </tr>\n",
       "  </tbody>\n",
       "</table>\n",
       "</div>"
      ],
      "text/plain": [
       "          count      mean       std   min    25%    50%     75%    max\n",
       "platform                                                              \n",
       "3DS       132.0  0.325152  0.798620  0.01  0.030  0.090  0.2325   7.14\n",
       "PC        104.0  0.132404  0.209449  0.01  0.020  0.050  0.1425   1.28\n",
       "PS3       111.0  0.183964  0.342696  0.01  0.020  0.060  0.1600   2.70\n",
       "PS4       301.0  0.625083  1.457063  0.01  0.050  0.120  0.4200  14.63\n",
       "PSP         3.0  0.040000  0.034641  0.02  0.020  0.020  0.0500   0.08\n",
       "PSV       195.0  0.053846  0.063669  0.01  0.020  0.030  0.0600   0.41\n",
       "Wii         5.0  0.264000  0.390487  0.01  0.030  0.150  0.1800   0.95\n",
       "WiiU       42.0  0.498810  0.850240  0.01  0.050  0.215  0.5175   4.44\n",
       "X360       48.0  0.280833  0.381207  0.01  0.040  0.110  0.3525   1.70\n",
       "XOne      167.0  0.516707  0.965940  0.01  0.035  0.130  0.5550   7.39"
      ]
     },
     "execution_count": 39,
     "metadata": {},
     "output_type": "execute_result"
    }
   ],
   "source": [
    "actual_data.groupby('platform')['all_sales'].describe()"
   ]
  },
  {
   "cell_type": "markdown",
   "metadata": {},
   "source": [
    "Видим что у каждой платформы есть выбросы, это игры Бестселлеры которые делают значительную часть выручки."
   ]
  },
  {
   "cell_type": "markdown",
   "metadata": {},
   "source": [
    "#### Посмотрите, как влияют на продажи внутри одной популярной платформы отзывы пользователей и критиков. Постройте диаграмму рассеяния и посчитайте корреляцию между отзывами и продажами. Сформулируйте выводы."
   ]
  },
  {
   "cell_type": "code",
   "execution_count": 32,
   "metadata": {},
   "outputs": [
    {
     "data": {
      "text/plain": [
       "<AxesSubplot:xlabel='critic_score', ylabel='all_sales'>"
      ]
     },
     "execution_count": 32,
     "metadata": {},
     "output_type": "execute_result"
    },
    {
     "data": {
      "image/png": "[encoded data removed]",
      "text/plain": [
       "<Figure size 1080x576 with 1 Axes>"
      ]
     },
     "metadata": {
      "needs_background": "light"
     },
     "output_type": "display_data"
    }
   ],
   "source": [
    "actual_data[(actual_data['platform'] == 'PS4') & (~actual_data['critic_score'].isnull()) & (~actual_data['user_score'].isnull())].plot(kind='scatter', y='all_sales' , x='critic_score', alpha=0.5, figsize=(15,8))"
   ]
  },
  {
   "cell_type": "code",
   "execution_count": 33,
   "metadata": {},
   "outputs": [
    {
     "data": {
      "text/plain": [
       "<AxesSubplot:xlabel='user_score', ylabel='all_sales'>"
      ]
     },
     "execution_count": 33,
     "metadata": {},
     "output_type": "execute_result"
    },
    {
     "data": {
      "image/png": "[encoded data removed]",
      "text/plain": [
       "<Figure size 1080x576 with 1 Axes>"
      ]
     },
     "metadata": {
      "needs_background": "light"
     },
     "output_type": "display_data"
    }
   ],
   "source": [
    "actual_data[(actual_data['platform'] == 'PS4') & (~actual_data['critic_score'].isnull()) & (~actual_data['user_score'].isnull())].plot(kind='scatter', y='all_sales' , x='user_score', alpha=0.5, figsize=(15,8))"
   ]
  },
  {
   "cell_type": "code",
   "execution_count": 34,
   "metadata": {},
   "outputs": [
    {
     "data": {
      "text/html": [
       "<div>\n",
       "<style scoped>\n",
       "    .dataframe tbody tr th:only-of-type {\n",
       "        vertical-align: middle;\n",
       "    }\n",
       "\n",
       "    .dataframe tbody tr th {\n",
       "        vertical-align: top;\n",
       "    }\n",
       "\n",
       "    .dataframe thead th {\n",
       "        text-align: right;\n",
       "    }\n",
       "</style>\n",
       "<table border=\"1\" class=\"dataframe\">\n",
       "  <thead>\n",
       "    <tr style=\"text-align: right;\">\n",
       "      <th></th>\n",
       "      <th>critic_score</th>\n",
       "      <th>user_score</th>\n",
       "      <th>all_sales</th>\n",
       "    </tr>\n",
       "  </thead>\n",
       "  <tbody>\n",
       "    <tr>\n",
       "      <th>critic_score</th>\n",
       "      <td>1.000000</td>\n",
       "      <td>0.533330</td>\n",
       "      <td>0.392074</td>\n",
       "    </tr>\n",
       "    <tr>\n",
       "      <th>user_score</th>\n",
       "      <td>0.533330</td>\n",
       "      <td>1.000000</td>\n",
       "      <td>-0.064368</td>\n",
       "    </tr>\n",
       "    <tr>\n",
       "      <th>all_sales</th>\n",
       "      <td>0.392074</td>\n",
       "      <td>-0.064368</td>\n",
       "      <td>1.000000</td>\n",
       "    </tr>\n",
       "  </tbody>\n",
       "</table>\n",
       "</div>"
      ],
      "text/plain": [
       "              critic_score  user_score  all_sales\n",
       "critic_score      1.000000    0.533330   0.392074\n",
       "user_score        0.533330    1.000000  -0.064368\n",
       "all_sales         0.392074   -0.064368   1.000000"
      ]
     },
     "execution_count": 34,
     "metadata": {},
     "output_type": "execute_result"
    }
   ],
   "source": [
    "actual_data[(actual_data['platform'] == 'PS4') & (~actual_data['critic_score'].isnull()) & (~actual_data['user_score'].isnull())][['critic_score', 'user_score', 'all_sales']].corr()"
   ]
  },
  {
   "cell_type": "markdown",
   "metadata": {},
   "source": [
    "Оставив данные по PS4 и отбросив пропуски в столбцах критики и пользователи мы получаем результат что на продажи оценки пользователей вообще не влияют, а оценки критиков влияют средне выраженно."
   ]
  },
  {
   "cell_type": "markdown",
   "metadata": {},
   "source": [
    "#### Соотнесите выводы с продажами игр на других платформах."
   ]
  },
  {
   "cell_type": "code",
   "execution_count": 42,
   "metadata": {},
   "outputs": [
    {
     "data": {
      "text/plain": [
       "<AxesSubplot:xlabel='critic_score', ylabel='all_sales'>"
      ]
     },
     "execution_count": 42,
     "metadata": {},
     "output_type": "execute_result"
    },
    {
     "data": {
      "image/png": "[encoded data removed]",
      "text/plain": [
       "<Figure size 1080x576 with 1 Axes>"
      ]
     },
     "metadata": {
      "needs_background": "light"
     },
     "output_type": "display_data"
    }
   ],
   "source": [
    "actual_data[(actual_data['platform'] == '3DS') & (~actual_data['critic_score'].isnull()) & (~actual_data['user_score'].isnull())].plot(kind='scatter', y='all_sales' , x='critic_score', alpha=0.5, figsize=(15,8))"
   ]
  },
  {
   "cell_type": "code",
   "execution_count": 43,
   "metadata": {},
   "outputs": [
    {
     "data": {
      "text/plain": [
       "<AxesSubplot:xlabel='user_score', ylabel='all_sales'>"
      ]
     },
     "execution_count": 43,
     "metadata": {},
     "output_type": "execute_result"
    },
    {
     "data": {
      "image/png": "[encoded data removed]",
      "text/plain": [
       "<Figure size 1080x576 with 1 Axes>"
      ]
     },
     "metadata": {
      "needs_background": "light"
     },
     "output_type": "display_data"
    }
   ],
   "source": [
    "actual_data[(actual_data['platform'] == '3DS') & (~actual_data['critic_score'].isnull()) & (~actual_data['user_score'].isnull())].plot(kind='scatter', y='all_sales' , x='user_score', alpha=0.5, figsize=(15,8))"
   ]
  },
  {
   "cell_type": "code",
   "execution_count": 40,
   "metadata": {},
   "outputs": [
    {
     "data": {
      "text/html": [
       "<div>\n",
       "<style scoped>\n",
       "    .dataframe tbody tr th:only-of-type {\n",
       "        vertical-align: middle;\n",
       "    }\n",
       "\n",
       "    .dataframe tbody tr th {\n",
       "        vertical-align: top;\n",
       "    }\n",
       "\n",
       "    .dataframe thead th {\n",
       "        text-align: right;\n",
       "    }\n",
       "</style>\n",
       "<table border=\"1\" class=\"dataframe\">\n",
       "  <thead>\n",
       "    <tr style=\"text-align: right;\">\n",
       "      <th></th>\n",
       "      <th>critic_score</th>\n",
       "      <th>user_score</th>\n",
       "      <th>all_sales</th>\n",
       "    </tr>\n",
       "  </thead>\n",
       "  <tbody>\n",
       "    <tr>\n",
       "      <th>critic_score</th>\n",
       "      <td>1.000000</td>\n",
       "      <td>0.791853</td>\n",
       "      <td>0.177575</td>\n",
       "    </tr>\n",
       "    <tr>\n",
       "      <th>user_score</th>\n",
       "      <td>0.791853</td>\n",
       "      <td>1.000000</td>\n",
       "      <td>0.240477</td>\n",
       "    </tr>\n",
       "    <tr>\n",
       "      <th>all_sales</th>\n",
       "      <td>0.177575</td>\n",
       "      <td>0.240477</td>\n",
       "      <td>1.000000</td>\n",
       "    </tr>\n",
       "  </tbody>\n",
       "</table>\n",
       "</div>"
      ],
      "text/plain": [
       "              critic_score  user_score  all_sales\n",
       "critic_score      1.000000    0.791853   0.177575\n",
       "user_score        0.791853    1.000000   0.240477\n",
       "all_sales         0.177575    0.240477   1.000000"
      ]
     },
     "execution_count": 40,
     "metadata": {},
     "output_type": "execute_result"
    }
   ],
   "source": [
    "actual_data[(actual_data['platform'] == '3DS') & (~actual_data['critic_score'].isnull()) & (~actual_data['user_score'].isnull())][['critic_score', 'user_score', 'all_sales']].corr()"
   ]
  },
  {
   "cell_type": "code",
   "execution_count": 44,
   "metadata": {},
   "outputs": [
    {
     "data": {
      "text/plain": [
       "<AxesSubplot:xlabel='critic_score', ylabel='all_sales'>"
      ]
     },
     "execution_count": 44,
     "metadata": {},
     "output_type": "execute_result"
    },
    {
     "data": {
      "image/png": "[encoded data removed]",
      "text/plain": [
       "<Figure size 1080x576 with 1 Axes>"
      ]
     },
     "metadata": {
      "needs_background": "light"
     },
     "output_type": "display_data"
    }
   ],
   "source": [
    "actual_data[(actual_data['platform'] == 'XOne') & (~actual_data['critic_score'].isnull()) & (~actual_data['user_score'].isnull())].plot(kind='scatter', y='all_sales' , x='critic_score', alpha=0.5, figsize=(15,8))"
   ]
  },
  {
   "cell_type": "code",
   "execution_count": 45,
   "metadata": {},
   "outputs": [
    {
     "data": {
      "text/plain": [
       "<AxesSubplot:xlabel='user_score', ylabel='all_sales'>"
      ]
     },
     "execution_count": 45,
     "metadata": {},
     "output_type": "execute_result"
    },
    {
     "data": {
      "image/png": "[encoded data removed]",
      "text/plain": [
       "<Figure size 1080x576 with 1 Axes>"
      ]
     },
     "metadata": {
      "needs_background": "light"
     },
     "output_type": "display_data"
    }
   ],
   "source": [
    "actual_data[(actual_data['platform'] == 'XOne') & (~actual_data['critic_score'].isnull()) & (~actual_data['user_score'].isnull())].plot(kind='scatter', y='all_sales' , x='user_score', alpha=0.5, figsize=(15,8))"
   ]
  },
  {
   "cell_type": "code",
   "execution_count": 41,
   "metadata": {},
   "outputs": [
    {
     "data": {
      "text/html": [
       "<div>\n",
       "<style scoped>\n",
       "    .dataframe tbody tr th:only-of-type {\n",
       "        vertical-align: middle;\n",
       "    }\n",
       "\n",
       "    .dataframe tbody tr th {\n",
       "        vertical-align: top;\n",
       "    }\n",
       "\n",
       "    .dataframe thead th {\n",
       "        text-align: right;\n",
       "    }\n",
       "</style>\n",
       "<table border=\"1\" class=\"dataframe\">\n",
       "  <thead>\n",
       "    <tr style=\"text-align: right;\">\n",
       "      <th></th>\n",
       "      <th>critic_score</th>\n",
       "      <th>user_score</th>\n",
       "      <th>all_sales</th>\n",
       "    </tr>\n",
       "  </thead>\n",
       "  <tbody>\n",
       "    <tr>\n",
       "      <th>critic_score</th>\n",
       "      <td>1.000000</td>\n",
       "      <td>0.459443</td>\n",
       "      <td>0.422519</td>\n",
       "    </tr>\n",
       "    <tr>\n",
       "      <th>user_score</th>\n",
       "      <td>0.459443</td>\n",
       "      <td>1.000000</td>\n",
       "      <td>-0.068684</td>\n",
       "    </tr>\n",
       "    <tr>\n",
       "      <th>all_sales</th>\n",
       "      <td>0.422519</td>\n",
       "      <td>-0.068684</td>\n",
       "      <td>1.000000</td>\n",
       "    </tr>\n",
       "  </tbody>\n",
       "</table>\n",
       "</div>"
      ],
      "text/plain": [
       "              critic_score  user_score  all_sales\n",
       "critic_score      1.000000    0.459443   0.422519\n",
       "user_score        0.459443    1.000000  -0.068684\n",
       "all_sales         0.422519   -0.068684   1.000000"
      ]
     },
     "execution_count": 41,
     "metadata": {},
     "output_type": "execute_result"
    }
   ],
   "source": [
    "actual_data[(actual_data['platform'] == 'XOne') & (~actual_data['critic_score'].isnull()) & (~actual_data['user_score'].isnull())][['critic_score', 'user_score', 'all_sales']].corr()"
   ]
  },
  {
   "cell_type": "markdown",
   "metadata": {},
   "source": [
    "Построив корреляцию по другим платформам мы видим что везде она разная. У платформы 3DS оценки пользователей и критиков оказывают слабое влияние на продажи. У платформы XOne результаты похожы на показатели платформы PS4."
   ]
  },
  {
   "cell_type": "markdown",
   "metadata": {},
   "source": [
    "#### Посмотрите на общее распределение игр по жанрам. Что можно сказать о самых прибыльных жанрах? Выделяются ли жанры с высокими и низкими продажами?"
   ]
  },
  {
   "cell_type": "markdown",
   "metadata": {},
   "source": [
    "Посмотрим распределение по количеству игр в разных жанрах"
   ]
  },
  {
   "cell_type": "code",
   "execution_count": 46,
   "metadata": {},
   "outputs": [
    {
     "data": {
      "image/png": "[encoded data removed]",
      "text/plain": [
       "<Figure size 1080x504 with 1 Axes>"
      ]
     },
     "metadata": {
      "needs_background": "light"
     },
     "output_type": "display_data"
    }
   ],
   "source": [
    "actual_data.pivot_table(index='genre', values='name', aggfunc='count').plot(grid=True, figsize=(15, 7))\n",
    "plt.show()"
   ]
  },
  {
   "cell_type": "markdown",
   "metadata": {},
   "source": [
    "Посмотрим на продажи игр по жанрам"
   ]
  },
  {
   "cell_type": "code",
   "execution_count": 47,
   "metadata": {},
   "outputs": [
    {
     "data": {
      "image/png": "[encoded data removed]",
      "text/plain": [
       "<Figure size 1080x504 with 1 Axes>"
      ]
     },
     "metadata": {
      "needs_background": "light"
     },
     "output_type": "display_data"
    }
   ],
   "source": [
    "actual_data.pivot_table(index='genre', values='all_sales', aggfunc='sum').plot(grid=True, figsize=(15, 7))\n",
    "plt.show()"
   ]
  },
  {
   "cell_type": "code",
   "execution_count": 48,
   "metadata": {},
   "outputs": [
    {
     "data": {
      "text/html": [
       "<div>\n",
       "<style scoped>\n",
       "    .dataframe tbody tr th:only-of-type {\n",
       "        vertical-align: middle;\n",
       "    }\n",
       "\n",
       "    .dataframe tbody tr th {\n",
       "        vertical-align: top;\n",
       "    }\n",
       "\n",
       "    .dataframe thead th {\n",
       "        text-align: right;\n",
       "    }\n",
       "</style>\n",
       "<table border=\"1\" class=\"dataframe\">\n",
       "  <thead>\n",
       "    <tr style=\"text-align: right;\">\n",
       "      <th></th>\n",
       "      <th>count</th>\n",
       "      <th>mean</th>\n",
       "      <th>std</th>\n",
       "      <th>min</th>\n",
       "      <th>25%</th>\n",
       "      <th>50%</th>\n",
       "      <th>75%</th>\n",
       "      <th>max</th>\n",
       "    </tr>\n",
       "    <tr>\n",
       "      <th>genre</th>\n",
       "      <th></th>\n",
       "      <th></th>\n",
       "      <th></th>\n",
       "      <th></th>\n",
       "      <th></th>\n",
       "      <th></th>\n",
       "      <th></th>\n",
       "      <th></th>\n",
       "    </tr>\n",
       "  </thead>\n",
       "  <tbody>\n",
       "    <tr>\n",
       "      <th>Action</th>\n",
       "      <td>431.0</td>\n",
       "      <td>0.236961</td>\n",
       "      <td>0.525858</td>\n",
       "      <td>0.01</td>\n",
       "      <td>0.0200</td>\n",
       "      <td>0.060</td>\n",
       "      <td>0.190</td>\n",
       "      <td>4.62</td>\n",
       "    </tr>\n",
       "    <tr>\n",
       "      <th>Adventure</th>\n",
       "      <td>110.0</td>\n",
       "      <td>0.108909</td>\n",
       "      <td>0.254260</td>\n",
       "      <td>0.01</td>\n",
       "      <td>0.0200</td>\n",
       "      <td>0.030</td>\n",
       "      <td>0.060</td>\n",
       "      <td>1.66</td>\n",
       "    </tr>\n",
       "    <tr>\n",
       "      <th>Fighting</th>\n",
       "      <td>37.0</td>\n",
       "      <td>0.334324</td>\n",
       "      <td>0.549695</td>\n",
       "      <td>0.01</td>\n",
       "      <td>0.0400</td>\n",
       "      <td>0.090</td>\n",
       "      <td>0.330</td>\n",
       "      <td>2.78</td>\n",
       "    </tr>\n",
       "    <tr>\n",
       "      <th>Misc</th>\n",
       "      <td>71.0</td>\n",
       "      <td>0.199577</td>\n",
       "      <td>0.286718</td>\n",
       "      <td>0.01</td>\n",
       "      <td>0.0300</td>\n",
       "      <td>0.060</td>\n",
       "      <td>0.290</td>\n",
       "      <td>1.58</td>\n",
       "    </tr>\n",
       "    <tr>\n",
       "      <th>Platform</th>\n",
       "      <td>28.0</td>\n",
       "      <td>0.331429</td>\n",
       "      <td>0.667387</td>\n",
       "      <td>0.01</td>\n",
       "      <td>0.0575</td>\n",
       "      <td>0.100</td>\n",
       "      <td>0.220</td>\n",
       "      <td>3.21</td>\n",
       "    </tr>\n",
       "    <tr>\n",
       "      <th>Puzzle</th>\n",
       "      <td>7.0</td>\n",
       "      <td>0.102857</td>\n",
       "      <td>0.170070</td>\n",
       "      <td>0.01</td>\n",
       "      <td>0.0150</td>\n",
       "      <td>0.030</td>\n",
       "      <td>0.085</td>\n",
       "      <td>0.48</td>\n",
       "    </tr>\n",
       "    <tr>\n",
       "      <th>Racing</th>\n",
       "      <td>42.0</td>\n",
       "      <td>0.258571</td>\n",
       "      <td>0.497342</td>\n",
       "      <td>0.01</td>\n",
       "      <td>0.0300</td>\n",
       "      <td>0.055</td>\n",
       "      <td>0.215</td>\n",
       "      <td>2.42</td>\n",
       "    </tr>\n",
       "    <tr>\n",
       "      <th>Role-Playing</th>\n",
       "      <td>132.0</td>\n",
       "      <td>0.422879</td>\n",
       "      <td>1.028082</td>\n",
       "      <td>0.01</td>\n",
       "      <td>0.0400</td>\n",
       "      <td>0.115</td>\n",
       "      <td>0.340</td>\n",
       "      <td>7.17</td>\n",
       "    </tr>\n",
       "    <tr>\n",
       "      <th>Shooter</th>\n",
       "      <td>81.0</td>\n",
       "      <td>1.305309</td>\n",
       "      <td>2.227297</td>\n",
       "      <td>0.01</td>\n",
       "      <td>0.1300</td>\n",
       "      <td>0.380</td>\n",
       "      <td>1.690</td>\n",
       "      <td>14.63</td>\n",
       "    </tr>\n",
       "    <tr>\n",
       "      <th>Simulation</th>\n",
       "      <td>33.0</td>\n",
       "      <td>0.228788</td>\n",
       "      <td>0.531018</td>\n",
       "      <td>0.01</td>\n",
       "      <td>0.0200</td>\n",
       "      <td>0.100</td>\n",
       "      <td>0.220</td>\n",
       "      <td>3.05</td>\n",
       "    </tr>\n",
       "    <tr>\n",
       "      <th>Sports</th>\n",
       "      <td>107.0</td>\n",
       "      <td>0.601215</td>\n",
       "      <td>1.292693</td>\n",
       "      <td>0.01</td>\n",
       "      <td>0.0450</td>\n",
       "      <td>0.120</td>\n",
       "      <td>0.495</td>\n",
       "      <td>8.58</td>\n",
       "    </tr>\n",
       "    <tr>\n",
       "      <th>Strategy</th>\n",
       "      <td>29.0</td>\n",
       "      <td>0.102759</td>\n",
       "      <td>0.115539</td>\n",
       "      <td>0.01</td>\n",
       "      <td>0.0200</td>\n",
       "      <td>0.050</td>\n",
       "      <td>0.140</td>\n",
       "      <td>0.52</td>\n",
       "    </tr>\n",
       "  </tbody>\n",
       "</table>\n",
       "</div>"
      ],
      "text/plain": [
       "              count      mean       std   min     25%    50%    75%    max\n",
       "genre                                                                     \n",
       "Action        431.0  0.236961  0.525858  0.01  0.0200  0.060  0.190   4.62\n",
       "Adventure     110.0  0.108909  0.254260  0.01  0.0200  0.030  0.060   1.66\n",
       "Fighting       37.0  0.334324  0.549695  0.01  0.0400  0.090  0.330   2.78\n",
       "Misc           71.0  0.199577  0.286718  0.01  0.0300  0.060  0.290   1.58\n",
       "Platform       28.0  0.331429  0.667387  0.01  0.0575  0.100  0.220   3.21\n",
       "Puzzle          7.0  0.102857  0.170070  0.01  0.0150  0.030  0.085   0.48\n",
       "Racing         42.0  0.258571  0.497342  0.01  0.0300  0.055  0.215   2.42\n",
       "Role-Playing  132.0  0.422879  1.028082  0.01  0.0400  0.115  0.340   7.17\n",
       "Shooter        81.0  1.305309  2.227297  0.01  0.1300  0.380  1.690  14.63\n",
       "Simulation     33.0  0.228788  0.531018  0.01  0.0200  0.100  0.220   3.05\n",
       "Sports        107.0  0.601215  1.292693  0.01  0.0450  0.120  0.495   8.58\n",
       "Strategy       29.0  0.102759  0.115539  0.01  0.0200  0.050  0.140   0.52"
      ]
     },
     "execution_count": 48,
     "metadata": {},
     "output_type": "execute_result"
    }
   ],
   "source": [
    "actual_data.groupby('genre')['all_sales'].describe()"
   ]
  },
  {
   "cell_type": "markdown",
   "metadata": {},
   "source": [
    "Самые прибыльные это игры Shooter т.к. у них самый высокий средний и медианный показатель при среднем показателе выпущенном количестве игр. Менее всего прибыльные это жанры Strategy, Puzzle и Adventure"
   ]
  },
  {
   "cell_type": "markdown",
   "metadata": {},
   "source": [
    "### Составьте портрет пользователя каждого региона"
   ]
  },
  {
   "cell_type": "markdown",
   "metadata": {},
   "source": [
    "#### Самые популярные платформы (топ-5) "
   ]
  },
  {
   "cell_type": "markdown",
   "metadata": {},
   "source": [
    "##### NA"
   ]
  },
  {
   "cell_type": "code",
   "execution_count": 53,
   "metadata": {},
   "outputs": [
    {
     "data": {
      "text/plain": [
       "<AxesSubplot:xlabel='platform'>"
      ]
     },
     "execution_count": 53,
     "metadata": {},
     "output_type": "execute_result"
    },
    {
     "data": {
      "image/png": "[encoded data removed]",
      "text/plain": [
       "<Figure size 1080x504 with 1 Axes>"
      ]
     },
     "metadata": {
      "needs_background": "light"
     },
     "output_type": "display_data"
    }
   ],
   "source": [
    "actual_data.pivot_table(index='platform', values='na_sales', aggfunc='sum').head(5).plot(grid=True, figsize=(15, 7))"
   ]
  },
  {
   "cell_type": "markdown",
   "metadata": {},
   "source": [
    "##### EU"
   ]
  },
  {
   "cell_type": "code",
   "execution_count": 54,
   "metadata": {},
   "outputs": [
    {
     "data": {
      "text/plain": [
       "<AxesSubplot:xlabel='platform'>"
      ]
     },
     "execution_count": 54,
     "metadata": {},
     "output_type": "execute_result"
    },
    {
     "data": {
      "image/png": "[encoded data removed]",
      "text/plain": [
       "<Figure size 1080x504 with 1 Axes>"
      ]
     },
     "metadata": {
      "needs_background": "light"
     },
     "output_type": "display_data"
    }
   ],
   "source": [
    "actual_data.pivot_table(index='platform', values='eu_sales', aggfunc='sum').head(5).plot(grid=True, figsize=(15, 7))"
   ]
  },
  {
   "cell_type": "markdown",
   "metadata": {},
   "source": [
    "##### JP"
   ]
  },
  {
   "cell_type": "code",
   "execution_count": 55,
   "metadata": {},
   "outputs": [
    {
     "data": {
      "text/plain": [
       "<AxesSubplot:xlabel='platform'>"
      ]
     },
     "execution_count": 55,
     "metadata": {},
     "output_type": "execute_result"
    },
    {
     "data": {
      "image/png": "[encoded data removed]",
      "text/plain": [
       "<Figure size 1080x504 with 1 Axes>"
      ]
     },
     "metadata": {
      "needs_background": "light"
     },
     "output_type": "display_data"
    }
   ],
   "source": [
    "actual_data.pivot_table(index='platform', values='jp_sales', aggfunc='sum').head(5).plot(grid=True, figsize=(15, 7))"
   ]
  },
  {
   "cell_type": "markdown",
   "metadata": {},
   "source": [
    "В регионе NA и EU самая популярная платформа PS4, другие платформы занимают намного меньше долю. В регионе JP самая популярная платформа 3DS, на втором месте со значительным отстованием PS4, на удивление платформа PC вообще не пользуется спросом."
   ]
  },
  {
   "cell_type": "markdown",
   "metadata": {},
   "source": [
    "#### Самые популярные жанры (топ-5)."
   ]
  },
  {
   "cell_type": "markdown",
   "metadata": {},
   "source": [
    "##### NA"
   ]
  },
  {
   "cell_type": "code",
   "execution_count": 69,
   "metadata": {},
   "outputs": [
    {
     "data": {
      "text/plain": [
       "<AxesSubplot:xlabel='genre'>"
      ]
     },
     "execution_count": 69,
     "metadata": {},
     "output_type": "execute_result"
    },
    {
     "data": {
      "image/png": "[encoded data removed]",
      "text/plain": [
       "<Figure size 1080x504 with 1 Axes>"
      ]
     },
     "metadata": {
      "needs_background": "light"
     },
     "output_type": "display_data"
    }
   ],
   "source": [
    "actual_data.pivot_table(index='genre', values='na_sales', aggfunc='sum').sort_values('na_sales', ascending=False).head(5).plot(grid=True, figsize=(15, 7))"
   ]
  },
  {
   "cell_type": "markdown",
   "metadata": {},
   "source": [
    "##### EU"
   ]
  },
  {
   "cell_type": "markdown",
   "metadata": {},
   "source": [
    "Самый популярный жанр это Action, он также в разы опережыет другие жанры"
   ]
  },
  {
   "cell_type": "code",
   "execution_count": 71,
   "metadata": {},
   "outputs": [
    {
     "data": {
      "text/plain": [
       "<AxesSubplot:xlabel='genre'>"
      ]
     },
     "execution_count": 71,
     "metadata": {},
     "output_type": "execute_result"
    },
    {
     "data": {
      "image/png": "[encoded data removed]",
      "text/plain": [
       "<Figure size 1080x504 with 1 Axes>"
      ]
     },
     "metadata": {
      "needs_background": "light"
     },
     "output_type": "display_data"
    }
   ],
   "source": [
    "actual_data.pivot_table(index='genre', values='eu_sales', aggfunc='sum').sort_values('eu_sales', ascending=False).head(5).plot(grid=True, figsize=(15, 7))"
   ]
  },
  {
   "cell_type": "markdown",
   "metadata": {},
   "source": [
    "##### JP"
   ]
  },
  {
   "cell_type": "code",
   "execution_count": 72,
   "metadata": {},
   "outputs": [
    {
     "data": {
      "text/plain": [
       "<AxesSubplot:xlabel='genre'>"
      ]
     },
     "execution_count": 72,
     "metadata": {},
     "output_type": "execute_result"
    },
    {
     "data": {
      "image/png": "[encoded data removed]",
      "text/plain": [
       "<Figure size 1080x504 with 1 Axes>"
      ]
     },
     "metadata": {
      "needs_background": "light"
     },
     "output_type": "display_data"
    }
   ],
   "source": [
    "actual_data.pivot_table(index='genre', values='jp_sales', aggfunc='sum').sort_values('jp_sales', ascending=False).head(5).plot(grid=True, figsize=(15, 7))"
   ]
  },
  {
   "cell_type": "markdown",
   "metadata": {},
   "source": [
    "В регионах EU и NA ситуация схожа, самые популярные жанры Shooter и Action. Регионе JP ситуация другая лидер Action и на втором месте Role-Playing"
   ]
  },
  {
   "cell_type": "markdown",
   "metadata": {},
   "source": [
    "#### Влияет ли рейтинг ESRB на продажи в отдельном регионе?"
   ]
  },
  {
   "cell_type": "markdown",
   "metadata": {},
   "source": [
    "##### NA"
   ]
  },
  {
   "cell_type": "code",
   "execution_count": 78,
   "metadata": {},
   "outputs": [
    {
     "data": {
      "text/plain": [
       "<AxesSubplot:ylabel='rating'>"
      ]
     },
     "execution_count": 78,
     "metadata": {},
     "output_type": "execute_result"
    },
    {
     "data": {
      "image/png": "[encoded data removed]",
      "text/plain": [
       "<Figure size 1368x432 with 1 Axes>"
      ]
     },
     "metadata": {
      "needs_background": "light"
     },
     "output_type": "display_data"
    }
   ],
   "source": [
    "actual_data.pivot_table(index='rating', values='na_sales', aggfunc='sum').plot(kind= 'barh', figsize=(19,6), legend = False, fontsize = 16)"
   ]
  },
  {
   "cell_type": "markdown",
   "metadata": {},
   "source": [
    "##### EU"
   ]
  },
  {
   "cell_type": "code",
   "execution_count": 79,
   "metadata": {},
   "outputs": [
    {
     "data": {
      "text/plain": [
       "<AxesSubplot:ylabel='rating'>"
      ]
     },
     "execution_count": 79,
     "metadata": {},
     "output_type": "execute_result"
    },
    {
     "data": {
      "image/png": "[encoded data removed]",
      "text/plain": [
       "<Figure size 1368x432 with 1 Axes>"
      ]
     },
     "metadata": {
      "needs_background": "light"
     },
     "output_type": "display_data"
    }
   ],
   "source": [
    "actual_data.pivot_table(index='rating', values='eu_sales', aggfunc='sum').plot(kind= 'barh', figsize=(19,6), legend = False, fontsize = 16)"
   ]
  },
  {
   "cell_type": "markdown",
   "metadata": {},
   "source": [
    "##### JP"
   ]
  },
  {
   "cell_type": "code",
   "execution_count": 80,
   "metadata": {},
   "outputs": [
    {
     "data": {
      "text/plain": [
       "<AxesSubplot:ylabel='rating'>"
      ]
     },
     "execution_count": 80,
     "metadata": {},
     "output_type": "execute_result"
    },
    {
     "data": {
      "image/png": "[encoded data removed]",
      "text/plain": [
       "<Figure size 1368x432 with 1 Axes>"
      ]
     },
     "metadata": {
      "needs_background": "light"
     },
     "output_type": "display_data"
    }
   ],
   "source": [
    "actual_data.pivot_table(index='rating', values='jp_sales', aggfunc='sum').plot(kind= 'barh', figsize=(19,6), legend = False, fontsize = 16)"
   ]
  },
  {
   "cell_type": "markdown",
   "metadata": {},
   "source": [
    "Судя по всему не влияет только в регион JP, т.к. очень много игр продается без категорий"
   ]
  },
  {
   "cell_type": "markdown",
   "metadata": {},
   "source": [
    "### Проверьте гипотезы"
   ]
  },
  {
   "cell_type": "markdown",
   "metadata": {},
   "source": [
    "#### Средние пользовательские рейтинги платформ Xbox One и PC одинаковые"
   ]
  },
  {
   "cell_type": "markdown",
   "metadata": {},
   "source": [
    "H0: средние рейтинги по платформам одинаковые\n",
    "H1: средние рейтинги по платформам разные"
   ]
  },
  {
   "cell_type": "code",
   "execution_count": 85,
   "metadata": {},
   "outputs": [
    {
     "name": "stdout",
     "output_type": "stream",
     "text": [
      "p-значение: 0.2778542084733835\n",
      "Не получилось отвергнуть нулевую гипотезу\n"
     ]
    }
   ],
   "source": [
    "data_xbox = actual_data[(actual_data['platform'] == 'XOne') & (~actual_data['user_score'].isnull())]['user_score']\n",
    "data_pc = actual_data[(actual_data['platform'] == 'PC') & (~actual_data['user_score'].isnull())]['user_score']\n",
    "alpha = .05\n",
    "results = st.ttest_ind(data_xbox, data_pc)\n",
    "print('p-значение:', results.pvalue)\n",
    "if (results.pvalue < alpha):\n",
    "    print(\"Отвергаем нулевую гипотезу\")\n",
    "else:\n",
    "    print(\"Не получилось отвергнуть нулевую гипотезу\")"
   ]
  },
  {
   "cell_type": "markdown",
   "metadata": {},
   "source": [
    "Вывод средние рейтинги по платформам одинаковые"
   ]
  },
  {
   "cell_type": "markdown",
   "metadata": {},
   "source": [
    "#### Средние пользовательские рейтинги жанров Action (англ. «действие», экшен-игры) и Sports (англ. «спортивные соревнования») разные."
   ]
  },
  {
   "cell_type": "markdown",
   "metadata": {},
   "source": [
    "H0: средние рейтинги по жанрам одинаковые\n",
    "H1: средние рейтинги по жанрам разные"
   ]
  },
  {
   "cell_type": "code",
   "execution_count": 82,
   "metadata": {},
   "outputs": [
    {
     "name": "stdout",
     "output_type": "stream",
     "text": [
      "p-значение:  1.0012846807938657e-13\n",
      "Отвергаем нулевую гипотезу\n"
     ]
    }
   ],
   "source": [
    "data_action = actual_data[(actual_data['genre'] == 'Action') & (~actual_data['user_score'].isnull())]['user_score']\n",
    "data_sports = actual_data[(actual_data['genre'] == 'Sports') & (~actual_data['user_score'].isnull())]['user_score']\n",
    "alpha = .05\n",
    "results = st.ttest_ind(data_action, data_sports)\n",
    "print('p-значение: ', results.pvalue)\n",
    "if results.pvalue < alpha:\n",
    "    print(\"Отвергаем нулевую гипотезу\")\n",
    "else:\n",
    "    print(\"Не получилось отвергнуть нулевую гипотезу\") "
   ]
  },
  {
   "cell_type": "markdown",
   "metadata": {},
   "source": [
    "Вывод средние рейтинги по жанрам разные"
   ]
  },
  {
   "cell_type": "markdown",
   "metadata": {},
   "source": [
    "### Напишите общий вывод"
   ]
  },
  {
   "cell_type": "markdown",
   "metadata": {},
   "source": [
    "С 1994 года начинается бум создания видоигр и достигает своего пика в 2008-2009 годах и дальше с 2012 года наблюдаем значительное снижение производства видеоигр. Самая прибыльная платформа в последних годам исследования это PS4. Прогноз на 2017 год это нисходящий тренд по количеству вышедших игр и по прибыльности. При покупке видеоигр покупатели практически не смотрят на рейтинг от пользователей, немного смотрят на рейтинг от критиков. В регионе NA и EU самая популярная платформа PS4. В регионе JP самая популярная платформа 3DS. В регионах EU и NA самые популярные жанры Shooter и Action. В регионе JP самый популярный жанр это Action. Рейтинг ESRB судя по всему не влияет только в регион JP, т.к. очень много игр продается без категорий. Проверив гипотезы мы выяснили что Средние пользовательские рейтинги платформ Xbox One и PC одинаковые. Средние пользовательские рейтинги жанров Action и Sports  разные."
   ]
  },
  {
   "cell_type": "markdown",
   "metadata": {},
   "source": []
  },
  {
   "cell_type": "code",
   "execution_count": null,
   "metadata": {},
   "outputs": [],
   "source": []
  }
 ],
 "metadata": {
  "ExecuteTimeLog": [
   {
    "duration": 393,
    "start_time": "2022-11-01T09:40:18.876Z"
   },
   {
    "duration": 179,
    "start_time": "2022-11-01T09:40:49.059Z"
   },
   {
    "duration": 25,
    "start_time": "2022-11-01T09:40:53.555Z"
   },
   {
    "duration": 12,
    "start_time": "2022-11-01T09:42:00.090Z"
   },
   {
    "duration": 1246,
    "start_time": "2022-11-01T11:58:55.599Z"
   },
   {
    "duration": 6,
    "start_time": "2022-11-01T11:59:04.177Z"
   },
   {
    "duration": 4,
    "start_time": "2022-11-01T11:59:40.300Z"
   },
   {
    "duration": 6,
    "start_time": "2022-11-01T12:11:07.374Z"
   },
   {
    "duration": 1080,
    "start_time": "2022-11-01T12:12:25.047Z"
   },
   {
    "duration": 5,
    "start_time": "2022-11-01T13:21:04.466Z"
   },
   {
    "duration": 20,
    "start_time": "2022-11-01T13:21:14.969Z"
   },
   {
    "duration": 3,
    "start_time": "2022-11-01T13:21:24.031Z"
   },
   {
    "duration": 4,
    "start_time": "2022-11-01T13:21:25.118Z"
   },
   {
    "duration": 3,
    "start_time": "2022-11-01T13:21:31.603Z"
   },
   {
    "duration": 49,
    "start_time": "2022-11-01T13:21:36.397Z"
   },
   {
    "duration": 4,
    "start_time": "2022-11-01T13:21:59.531Z"
   },
   {
    "duration": 19,
    "start_time": "2022-11-01T13:21:59.980Z"
   },
   {
    "duration": 1112,
    "start_time": "2022-11-01T13:25:20.108Z"
   },
   {
    "duration": 87,
    "start_time": "2022-11-01T13:26:08.826Z"
   },
   {
    "duration": 5,
    "start_time": "2022-11-01T13:26:11.503Z"
   },
   {
    "duration": 5,
    "start_time": "2022-11-01T13:26:55.620Z"
   },
   {
    "duration": 1086,
    "start_time": "2022-11-01T13:29:18.531Z"
   },
   {
    "duration": 4,
    "start_time": "2022-11-01T13:29:36.246Z"
   },
   {
    "duration": 74,
    "start_time": "2022-11-01T13:29:37.868Z"
   },
   {
    "duration": 14,
    "start_time": "2022-11-01T13:29:40.469Z"
   },
   {
    "duration": 12,
    "start_time": "2022-11-01T13:29:50.143Z"
   },
   {
    "duration": 287,
    "start_time": "2022-11-01T13:31:08.455Z"
   },
   {
    "duration": 11,
    "start_time": "2022-11-01T13:31:43.880Z"
   },
   {
    "duration": 11,
    "start_time": "2022-11-01T13:32:00.988Z"
   },
   {
    "duration": 21,
    "start_time": "2022-11-01T13:32:58.949Z"
   },
   {
    "duration": 14,
    "start_time": "2022-11-01T13:52:34.896Z"
   },
   {
    "duration": 8,
    "start_time": "2022-11-01T13:56:15.908Z"
   },
   {
    "duration": 21,
    "start_time": "2022-11-01T13:56:25.130Z"
   },
   {
    "duration": 13,
    "start_time": "2022-11-01T13:56:48.310Z"
   },
   {
    "duration": 5,
    "start_time": "2022-11-01T15:44:49.968Z"
   },
   {
    "duration": 4,
    "start_time": "2022-11-01T15:45:36.719Z"
   },
   {
    "duration": 18,
    "start_time": "2022-11-01T15:45:44.536Z"
   },
   {
    "duration": 11,
    "start_time": "2022-11-01T15:45:56.724Z"
   },
   {
    "duration": 8,
    "start_time": "2022-11-01T15:46:46.027Z"
   },
   {
    "duration": 20,
    "start_time": "2022-11-01T15:47:00.647Z"
   },
   {
    "duration": 6,
    "start_time": "2022-11-01T15:47:14.033Z"
   },
   {
    "duration": 21,
    "start_time": "2022-11-01T15:47:18.268Z"
   },
   {
    "duration": 2,
    "start_time": "2022-11-01T15:48:55.748Z"
   },
   {
    "duration": 6,
    "start_time": "2022-11-01T15:49:01.183Z"
   },
   {
    "duration": 20,
    "start_time": "2022-11-01T15:49:05.658Z"
   },
   {
    "duration": 6,
    "start_time": "2022-11-01T15:50:03.318Z"
   },
   {
    "duration": 5,
    "start_time": "2022-11-01T15:52:54.567Z"
   },
   {
    "duration": 8,
    "start_time": "2022-11-01T15:52:57.030Z"
   },
   {
    "duration": 15,
    "start_time": "2022-11-01T15:53:17.936Z"
   },
   {
    "duration": 13,
    "start_time": "2022-11-01T15:55:11.578Z"
   },
   {
    "duration": 3,
    "start_time": "2022-11-01T15:55:38.055Z"
   },
   {
    "duration": 11,
    "start_time": "2022-11-01T15:55:41.881Z"
   },
   {
    "duration": 11,
    "start_time": "2022-11-01T15:59:16.720Z"
   },
   {
    "duration": 4,
    "start_time": "2022-11-01T15:59:34.024Z"
   },
   {
    "duration": 13,
    "start_time": "2022-11-01T15:59:41.168Z"
   },
   {
    "duration": 12,
    "start_time": "2022-11-01T16:03:38.060Z"
   },
   {
    "duration": 10,
    "start_time": "2022-11-01T16:03:52.020Z"
   },
   {
    "duration": 8,
    "start_time": "2022-11-01T16:19:56.587Z"
   },
   {
    "duration": 11,
    "start_time": "2022-11-01T16:20:06.533Z"
   },
   {
    "duration": 5,
    "start_time": "2022-11-01T16:21:45.267Z"
   },
   {
    "duration": 19,
    "start_time": "2022-11-01T16:22:05.722Z"
   },
   {
    "duration": 8,
    "start_time": "2022-11-01T16:25:55.884Z"
   },
   {
    "duration": 15,
    "start_time": "2022-11-01T16:26:06.536Z"
   },
   {
    "duration": 13,
    "start_time": "2022-11-01T16:26:32.212Z"
   },
   {
    "duration": 14,
    "start_time": "2022-11-01T16:26:44.910Z"
   },
   {
    "duration": 13,
    "start_time": "2022-11-01T16:27:09.513Z"
   },
   {
    "duration": 6,
    "start_time": "2022-11-01T16:34:23.692Z"
   },
   {
    "duration": 6,
    "start_time": "2022-11-01T16:34:32.853Z"
   },
   {
    "duration": 6,
    "start_time": "2022-11-01T16:35:02.343Z"
   },
   {
    "duration": 11,
    "start_time": "2022-11-01T16:44:30.071Z"
   },
   {
    "duration": 301,
    "start_time": "2022-11-01T16:45:21.814Z"
   },
   {
    "duration": 11,
    "start_time": "2022-11-01T16:46:07.036Z"
   },
   {
    "duration": 291,
    "start_time": "2022-11-01T16:46:56.568Z"
   },
   {
    "duration": 283,
    "start_time": "2022-11-01T16:48:09.728Z"
   },
   {
    "duration": 328,
    "start_time": "2022-11-01T16:48:59.468Z"
   },
   {
    "duration": 14,
    "start_time": "2022-11-01T16:49:42.181Z"
   },
   {
    "duration": 13,
    "start_time": "2022-11-01T16:49:54.659Z"
   },
   {
    "duration": 15,
    "start_time": "2022-11-01T16:51:22.871Z"
   },
   {
    "duration": 472,
    "start_time": "2022-11-01T16:52:08.365Z"
   },
   {
    "duration": 730,
    "start_time": "2022-11-01T16:55:33.650Z"
   },
   {
    "duration": 11,
    "start_time": "2022-11-01T16:55:51.798Z"
   },
   {
    "duration": 734,
    "start_time": "2022-11-01T16:57:37.213Z"
   },
   {
    "duration": 12,
    "start_time": "2022-11-01T16:57:38.587Z"
   },
   {
    "duration": 5,
    "start_time": "2022-11-01T16:58:12.618Z"
   },
   {
    "duration": 5,
    "start_time": "2022-11-01T16:58:50.522Z"
   },
   {
    "duration": 8,
    "start_time": "2022-11-01T16:59:01.660Z"
   },
   {
    "duration": 4,
    "start_time": "2022-11-01T16:59:06.809Z"
   },
   {
    "duration": 4,
    "start_time": "2022-11-01T17:03:50.688Z"
   },
   {
    "duration": 8,
    "start_time": "2022-11-01T17:03:58.643Z"
   },
   {
    "duration": 6,
    "start_time": "2022-11-01T17:04:23.824Z"
   },
   {
    "duration": 4,
    "start_time": "2022-11-01T17:06:55.310Z"
   },
   {
    "duration": 11,
    "start_time": "2022-11-01T17:06:58.078Z"
   },
   {
    "duration": 3,
    "start_time": "2022-11-01T17:07:04.793Z"
   },
   {
    "duration": 45,
    "start_time": "2022-11-01T17:07:05.262Z"
   },
   {
    "duration": 19,
    "start_time": "2022-11-01T17:07:05.698Z"
   },
   {
    "duration": 13,
    "start_time": "2022-11-01T17:07:09.324Z"
   },
   {
    "duration": 5,
    "start_time": "2022-11-01T17:07:13.576Z"
   },
   {
    "duration": 5,
    "start_time": "2022-11-01T17:07:14.221Z"
   },
   {
    "duration": 5,
    "start_time": "2022-11-01T17:07:15.160Z"
   },
   {
    "duration": 5,
    "start_time": "2022-11-01T17:07:17.100Z"
   },
   {
    "duration": 683,
    "start_time": "2022-11-01T17:07:20.510Z"
   },
   {
    "duration": 3,
    "start_time": "2022-11-01T17:07:26.440Z"
   },
   {
    "duration": 5,
    "start_time": "2022-11-01T17:07:31.258Z"
   },
   {
    "duration": 18,
    "start_time": "2022-11-01T17:07:32.641Z"
   },
   {
    "duration": 4,
    "start_time": "2022-11-01T17:08:00.562Z"
   },
   {
    "duration": 4,
    "start_time": "2022-11-01T17:08:01.783Z"
   },
   {
    "duration": 14,
    "start_time": "2022-11-01T17:08:02.335Z"
   },
   {
    "duration": 21,
    "start_time": "2022-11-01T17:08:07.909Z"
   },
   {
    "duration": 22,
    "start_time": "2022-11-01T17:08:12.145Z"
   },
   {
    "duration": 10,
    "start_time": "2022-11-01T17:09:13.271Z"
   },
   {
    "duration": 5,
    "start_time": "2022-11-01T17:09:36.774Z"
   },
   {
    "duration": 3,
    "start_time": "2022-11-01T17:09:43.145Z"
   },
   {
    "duration": 9,
    "start_time": "2022-11-01T17:09:57.396Z"
   },
   {
    "duration": 6,
    "start_time": "2022-11-01T17:10:13.185Z"
   },
   {
    "duration": 6,
    "start_time": "2022-11-01T17:12:39.691Z"
   },
   {
    "duration": 6,
    "start_time": "2022-11-01T17:12:50.143Z"
   },
   {
    "duration": 947,
    "start_time": "2022-11-01T17:16:27.371Z"
   },
   {
    "duration": 12,
    "start_time": "2022-11-01T17:16:34.634Z"
   },
   {
    "duration": 9,
    "start_time": "2022-11-01T17:18:32.259Z"
   },
   {
    "duration": 2,
    "start_time": "2022-11-01T17:18:53.919Z"
   },
   {
    "duration": 7,
    "start_time": "2022-11-01T17:18:54.405Z"
   },
   {
    "duration": 3,
    "start_time": "2022-11-01T17:19:15.324Z"
   },
   {
    "duration": 5,
    "start_time": "2022-11-01T17:19:21.045Z"
   },
   {
    "duration": 44,
    "start_time": "2022-11-01T17:20:56.556Z"
   },
   {
    "duration": 20,
    "start_time": "2022-11-01T17:20:57.835Z"
   },
   {
    "duration": 7,
    "start_time": "2022-11-01T17:21:01.289Z"
   },
   {
    "duration": 13,
    "start_time": "2022-11-01T17:21:05.171Z"
   },
   {
    "duration": 4,
    "start_time": "2022-11-01T17:21:05.780Z"
   },
   {
    "duration": 5,
    "start_time": "2022-11-01T17:21:06.273Z"
   },
   {
    "duration": 5,
    "start_time": "2022-11-01T17:21:06.674Z"
   },
   {
    "duration": 5,
    "start_time": "2022-11-01T17:21:07.000Z"
   },
   {
    "duration": 764,
    "start_time": "2022-11-01T17:21:07.591Z"
   },
   {
    "duration": 3,
    "start_time": "2022-11-01T17:21:09.351Z"
   },
   {
    "duration": 5,
    "start_time": "2022-11-01T17:21:10.107Z"
   },
   {
    "duration": 13,
    "start_time": "2022-11-01T17:21:10.556Z"
   },
   {
    "duration": 21,
    "start_time": "2022-11-01T17:21:13.620Z"
   },
   {
    "duration": 864,
    "start_time": "2022-11-01T17:21:26.194Z"
   },
   {
    "duration": 12,
    "start_time": "2022-11-01T17:21:30.468Z"
   },
   {
    "duration": 4,
    "start_time": "2022-11-01T17:22:31.467Z"
   },
   {
    "duration": 4,
    "start_time": "2022-11-01T17:22:33.668Z"
   },
   {
    "duration": 12,
    "start_time": "2022-11-01T17:22:36.782Z"
   },
   {
    "duration": 9,
    "start_time": "2022-11-01T17:25:39.080Z"
   },
   {
    "duration": 17,
    "start_time": "2022-11-01T17:25:43.196Z"
   },
   {
    "duration": 6,
    "start_time": "2022-11-01T17:26:04.969Z"
   },
   {
    "duration": 15,
    "start_time": "2022-11-01T17:26:10.190Z"
   },
   {
    "duration": 5,
    "start_time": "2022-11-01T17:32:15.543Z"
   },
   {
    "duration": 5,
    "start_time": "2022-11-01T17:32:30.357Z"
   },
   {
    "duration": 6,
    "start_time": "2022-11-01T17:33:55.813Z"
   },
   {
    "duration": 6,
    "start_time": "2022-11-01T18:11:35.789Z"
   },
   {
    "duration": 18,
    "start_time": "2022-11-01T18:15:21.747Z"
   },
   {
    "duration": 9,
    "start_time": "2022-11-01T18:16:26.951Z"
   },
   {
    "duration": 12,
    "start_time": "2022-11-01T18:16:44.444Z"
   },
   {
    "duration": 16,
    "start_time": "2022-11-01T18:16:55.918Z"
   },
   {
    "duration": 13,
    "start_time": "2022-11-01T18:17:13.573Z"
   },
   {
    "duration": 29,
    "start_time": "2022-11-01T18:17:23.101Z"
   },
   {
    "duration": 17,
    "start_time": "2022-11-01T18:17:31.703Z"
   },
   {
    "duration": 12,
    "start_time": "2022-11-01T18:17:38.732Z"
   },
   {
    "duration": 19,
    "start_time": "2022-11-01T18:17:50.403Z"
   },
   {
    "duration": 18,
    "start_time": "2022-11-01T18:18:51.609Z"
   },
   {
    "duration": 6,
    "start_time": "2022-11-01T18:19:33.989Z"
   },
   {
    "duration": 29,
    "start_time": "2022-11-01T18:30:42.262Z"
   },
   {
    "duration": 21,
    "start_time": "2022-11-01T18:30:50.180Z"
   },
   {
    "duration": 15,
    "start_time": "2022-11-01T19:17:48.799Z"
   },
   {
    "duration": 23,
    "start_time": "2022-11-01T19:18:37.941Z"
   },
   {
    "duration": 21,
    "start_time": "2022-11-01T19:25:38.861Z"
   },
   {
    "duration": 15,
    "start_time": "2022-11-01T19:27:13.396Z"
   },
   {
    "duration": 170,
    "start_time": "2022-11-01T19:29:38.513Z"
   },
   {
    "duration": 8,
    "start_time": "2022-11-01T19:31:34.360Z"
   },
   {
    "duration": 12,
    "start_time": "2022-11-01T19:32:03.615Z"
   },
   {
    "duration": 13,
    "start_time": "2022-11-01T19:32:09.886Z"
   },
   {
    "duration": 12,
    "start_time": "2022-11-01T19:32:18.194Z"
   },
   {
    "duration": 14,
    "start_time": "2022-11-01T19:32:29.940Z"
   },
   {
    "duration": 18,
    "start_time": "2022-11-01T19:33:26.048Z"
   },
   {
    "duration": 422,
    "start_time": "2022-11-02T17:14:37.395Z"
   },
   {
    "duration": 3,
    "start_time": "2022-11-02T17:14:37.909Z"
   },
   {
    "duration": 88,
    "start_time": "2022-11-02T17:14:38.526Z"
   },
   {
    "duration": 28,
    "start_time": "2022-11-02T17:14:38.940Z"
   },
   {
    "duration": 16,
    "start_time": "2022-11-02T17:14:43.224Z"
   },
   {
    "duration": 5,
    "start_time": "2022-11-02T17:14:44.963Z"
   },
   {
    "duration": 5,
    "start_time": "2022-11-02T17:14:45.629Z"
   },
   {
    "duration": 5,
    "start_time": "2022-11-02T17:14:46.153Z"
   },
   {
    "duration": 5,
    "start_time": "2022-11-02T17:14:46.740Z"
   },
   {
    "duration": 1105,
    "start_time": "2022-11-02T17:14:48.078Z"
   },
   {
    "duration": 4,
    "start_time": "2022-11-02T17:14:52.094Z"
   },
   {
    "duration": 5,
    "start_time": "2022-11-02T17:14:56.984Z"
   },
   {
    "duration": 924,
    "start_time": "2022-11-02T17:14:59.568Z"
   },
   {
    "duration": 5,
    "start_time": "2022-11-02T17:15:00.493Z"
   },
   {
    "duration": 4,
    "start_time": "2022-11-02T17:15:00.619Z"
   },
   {
    "duration": 6,
    "start_time": "2022-11-02T17:15:02.769Z"
   },
   {
    "duration": 14,
    "start_time": "2022-11-02T17:15:03.315Z"
   },
   {
    "duration": 5,
    "start_time": "2022-11-02T17:15:13.052Z"
   },
   {
    "duration": 20,
    "start_time": "2022-11-02T17:15:13.637Z"
   },
   {
    "duration": 15,
    "start_time": "2022-11-02T17:17:31.358Z"
   },
   {
    "duration": 132,
    "start_time": "2022-11-02T17:21:57.127Z"
   },
   {
    "duration": 14,
    "start_time": "2022-11-02T17:22:24.436Z"
   },
   {
    "duration": 24,
    "start_time": "2022-11-02T17:28:47.602Z"
   },
   {
    "duration": 19,
    "start_time": "2022-11-02T17:29:09.468Z"
   },
   {
    "duration": 10,
    "start_time": "2022-11-02T17:31:43.677Z"
   },
   {
    "duration": 7,
    "start_time": "2022-11-02T17:34:19.042Z"
   },
   {
    "duration": 34,
    "start_time": "2022-11-02T17:35:39.985Z"
   },
   {
    "duration": 92,
    "start_time": "2022-11-02T17:45:24.102Z"
   },
   {
    "duration": 512,
    "start_time": "2022-11-02T17:45:41.821Z"
   },
   {
    "duration": 3,
    "start_time": "2022-11-02T17:46:07.492Z"
   },
   {
    "duration": 482,
    "start_time": "2022-11-02T17:46:12.874Z"
   },
   {
    "duration": 206,
    "start_time": "2022-11-02T17:47:18.562Z"
   },
   {
    "duration": 275,
    "start_time": "2022-11-02T17:47:23.783Z"
   },
   {
    "duration": 468,
    "start_time": "2022-11-02T17:47:53.726Z"
   },
   {
    "duration": 89,
    "start_time": "2022-11-02T18:02:23.583Z"
   },
   {
    "duration": 5,
    "start_time": "2022-11-02T18:02:30.336Z"
   },
   {
    "duration": 7,
    "start_time": "2022-11-02T18:02:44.573Z"
   },
   {
    "duration": 7,
    "start_time": "2022-11-02T18:03:40.517Z"
   },
   {
    "duration": 7,
    "start_time": "2022-11-02T18:04:49.390Z"
   },
   {
    "duration": 4,
    "start_time": "2022-11-02T18:04:56.185Z"
   },
   {
    "duration": 7,
    "start_time": "2022-11-02T18:06:17.607Z"
   },
   {
    "duration": 4,
    "start_time": "2022-11-02T18:06:22.032Z"
   },
   {
    "duration": 16,
    "start_time": "2022-11-02T18:10:47.407Z"
   },
   {
    "duration": 16,
    "start_time": "2022-11-02T18:11:08.224Z"
   },
   {
    "duration": 15,
    "start_time": "2022-11-02T18:11:20.386Z"
   },
   {
    "duration": 449,
    "start_time": "2022-11-02T18:14:14.218Z"
   },
   {
    "duration": 196,
    "start_time": "2022-11-02T18:15:09.835Z"
   },
   {
    "duration": 298,
    "start_time": "2022-11-02T18:16:31.691Z"
   },
   {
    "duration": 257,
    "start_time": "2022-11-02T18:16:50.914Z"
   },
   {
    "duration": 207,
    "start_time": "2022-11-02T18:57:20.248Z"
   },
   {
    "duration": 27,
    "start_time": "2022-11-02T18:58:20.105Z"
   },
   {
    "duration": 27,
    "start_time": "2022-11-02T18:58:27.610Z"
   },
   {
    "duration": 206,
    "start_time": "2022-11-02T18:58:35.446Z"
   },
   {
    "duration": 206,
    "start_time": "2022-11-02T19:04:33.609Z"
   },
   {
    "duration": 121,
    "start_time": "2022-11-02T19:14:19.486Z"
   },
   {
    "duration": 8,
    "start_time": "2022-11-02T19:14:36.423Z"
   },
   {
    "duration": 242,
    "start_time": "2022-11-02T19:14:46.412Z"
   },
   {
    "duration": 113,
    "start_time": "2022-11-02T19:14:50.140Z"
   },
   {
    "duration": 5600,
    "start_time": "2022-11-02T19:15:36.223Z"
   },
   {
    "duration": 145,
    "start_time": "2022-11-02T19:18:01.493Z"
   },
   {
    "duration": 255,
    "start_time": "2022-11-02T19:19:03.676Z"
   },
   {
    "duration": 31,
    "start_time": "2022-11-02T19:19:22.247Z"
   },
   {
    "duration": 169,
    "start_time": "2022-11-02T19:19:30.562Z"
   },
   {
    "duration": 352,
    "start_time": "2022-11-02T19:20:32.597Z"
   },
   {
    "duration": 212,
    "start_time": "2022-11-02T19:20:48.818Z"
   },
   {
    "duration": 264,
    "start_time": "2022-11-02T19:21:49.538Z"
   },
   {
    "duration": 202,
    "start_time": "2022-11-02T19:22:05.037Z"
   },
   {
    "duration": 224,
    "start_time": "2022-11-02T19:24:27.696Z"
   },
   {
    "duration": 217,
    "start_time": "2022-11-02T19:24:54.327Z"
   },
   {
    "duration": 237,
    "start_time": "2022-11-02T19:25:03.729Z"
   },
   {
    "duration": 195,
    "start_time": "2022-11-02T19:30:06.274Z"
   },
   {
    "duration": 595,
    "start_time": "2022-11-02T19:30:44.193Z"
   },
   {
    "duration": 3248,
    "start_time": "2022-11-02T19:35:23.276Z"
   },
   {
    "duration": 120,
    "start_time": "2022-11-02T19:39:17.909Z"
   },
   {
    "duration": 13,
    "start_time": "2022-11-02T19:44:59.720Z"
   },
   {
    "duration": 900,
    "start_time": "2022-11-02T19:45:53.003Z"
   },
   {
    "duration": 598,
    "start_time": "2022-11-02T19:47:25.505Z"
   },
   {
    "duration": 51,
    "start_time": "2022-11-02T19:49:43.699Z"
   },
   {
    "duration": 11,
    "start_time": "2022-11-02T19:49:56.052Z"
   },
   {
    "duration": 5,
    "start_time": "2022-11-02T19:51:57.862Z"
   },
   {
    "duration": 8,
    "start_time": "2022-11-02T19:53:23.313Z"
   },
   {
    "duration": 209,
    "start_time": "2022-11-02T20:05:12.669Z"
   },
   {
    "duration": 163,
    "start_time": "2022-11-02T20:06:17.395Z"
   },
   {
    "duration": 165,
    "start_time": "2022-11-02T20:06:20.987Z"
   },
   {
    "duration": 12,
    "start_time": "2022-11-02T20:08:09.542Z"
   },
   {
    "duration": 12,
    "start_time": "2022-11-02T20:09:07.627Z"
   },
   {
    "duration": 156,
    "start_time": "2022-11-02T20:15:16.942Z"
   },
   {
    "duration": 170,
    "start_time": "2022-11-02T20:16:10.503Z"
   },
   {
    "duration": 2,
    "start_time": "2022-11-02T20:24:08.427Z"
   },
   {
    "duration": 16,
    "start_time": "2022-11-02T20:27:32.933Z"
   },
   {
    "duration": 13,
    "start_time": "2022-11-02T20:28:53.703Z"
   },
   {
    "duration": 13,
    "start_time": "2022-11-02T20:29:06.971Z"
   },
   {
    "duration": 155,
    "start_time": "2022-11-02T20:29:55.936Z"
   },
   {
    "duration": 170,
    "start_time": "2022-11-02T20:31:52.322Z"
   },
   {
    "duration": 3,
    "start_time": "2022-11-02T20:33:04.765Z"
   },
   {
    "duration": 10,
    "start_time": "2022-11-02T20:36:41.316Z"
   },
   {
    "duration": 4026,
    "start_time": "2022-11-02T20:37:02.166Z"
   },
   {
    "duration": 10,
    "start_time": "2022-11-02T20:37:52.328Z"
   },
   {
    "duration": 217,
    "start_time": "2022-11-02T20:40:19.362Z"
   },
   {
    "duration": 175,
    "start_time": "2022-11-02T20:42:26.561Z"
   },
   {
    "duration": 162,
    "start_time": "2022-11-02T20:55:56.571Z"
   },
   {
    "duration": 45,
    "start_time": "2022-11-02T20:56:22.633Z"
   },
   {
    "duration": 131,
    "start_time": "2022-11-02T20:56:35.963Z"
   },
   {
    "duration": 166,
    "start_time": "2022-11-02T20:57:43.742Z"
   },
   {
    "duration": 160,
    "start_time": "2022-11-02T20:58:55.226Z"
   },
   {
    "duration": 194,
    "start_time": "2022-11-02T21:05:12.423Z"
   },
   {
    "duration": 253,
    "start_time": "2022-11-02T21:05:24.536Z"
   },
   {
    "duration": 173,
    "start_time": "2022-11-02T21:09:18.088Z"
   },
   {
    "duration": 163,
    "start_time": "2022-11-02T21:10:27.167Z"
   },
   {
    "duration": 2,
    "start_time": "2022-11-02T21:11:05.754Z"
   },
   {
    "duration": 170,
    "start_time": "2022-11-02T21:11:26.836Z"
   },
   {
    "duration": 160,
    "start_time": "2022-11-02T21:12:55.792Z"
   },
   {
    "duration": 177,
    "start_time": "2022-11-02T21:13:18.538Z"
   },
   {
    "duration": 169,
    "start_time": "2022-11-02T21:13:38.883Z"
   },
   {
    "duration": 49,
    "start_time": "2022-11-02T21:22:54.251Z"
   },
   {
    "duration": 9,
    "start_time": "2022-11-02T21:23:09.189Z"
   },
   {
    "duration": 13,
    "start_time": "2022-11-02T21:23:33.704Z"
   },
   {
    "duration": 406,
    "start_time": "2022-11-02T21:25:32.623Z"
   },
   {
    "duration": 9,
    "start_time": "2022-11-02T21:25:37.027Z"
   },
   {
    "duration": 10,
    "start_time": "2022-11-02T21:27:00.045Z"
   },
   {
    "duration": 14,
    "start_time": "2022-11-02T21:27:02.559Z"
   },
   {
    "duration": 10,
    "start_time": "2022-11-02T21:27:15.701Z"
   },
   {
    "duration": 5,
    "start_time": "2022-11-02T21:27:31.994Z"
   },
   {
    "duration": 7,
    "start_time": "2022-11-02T21:27:37.893Z"
   },
   {
    "duration": 7,
    "start_time": "2022-11-02T21:27:57.135Z"
   },
   {
    "duration": 6,
    "start_time": "2022-11-02T21:27:59.458Z"
   },
   {
    "duration": 12,
    "start_time": "2022-11-02T21:28:56.696Z"
   },
   {
    "duration": 21,
    "start_time": "2022-11-02T21:29:34.333Z"
   },
   {
    "duration": 10,
    "start_time": "2022-11-02T21:29:40.003Z"
   },
   {
    "duration": 11,
    "start_time": "2022-11-02T21:30:10.137Z"
   },
   {
    "duration": 53,
    "start_time": "2022-11-02T21:36:37.942Z"
   },
   {
    "duration": 12,
    "start_time": "2022-11-02T21:36:52.856Z"
   },
   {
    "duration": 7,
    "start_time": "2022-11-02T21:38:01.425Z"
   },
   {
    "duration": 49,
    "start_time": "2022-11-02T21:38:18.173Z"
   },
   {
    "duration": 11,
    "start_time": "2022-11-02T21:38:29.657Z"
   },
   {
    "duration": 11,
    "start_time": "2022-11-02T21:38:43.543Z"
   },
   {
    "duration": 9,
    "start_time": "2022-11-02T21:38:49.818Z"
   },
   {
    "duration": 11,
    "start_time": "2022-11-02T21:38:59.780Z"
   },
   {
    "duration": 11,
    "start_time": "2022-11-02T21:39:11.221Z"
   },
   {
    "duration": 10,
    "start_time": "2022-11-02T21:40:06.467Z"
   },
   {
    "duration": 9,
    "start_time": "2022-11-02T21:40:27.713Z"
   },
   {
    "duration": 14,
    "start_time": "2022-11-02T21:40:52.521Z"
   },
   {
    "duration": 13,
    "start_time": "2022-11-02T21:40:58.838Z"
   },
   {
    "duration": 61,
    "start_time": "2022-11-02T21:49:04.793Z"
   },
   {
    "duration": 1167,
    "start_time": "2022-11-03T07:19:00.879Z"
   },
   {
    "duration": 3,
    "start_time": "2022-11-03T07:19:02.047Z"
   },
   {
    "duration": 317,
    "start_time": "2022-11-03T07:19:02.131Z"
   },
   {
    "duration": 24,
    "start_time": "2022-11-03T07:19:02.658Z"
   },
   {
    "duration": 13,
    "start_time": "2022-11-03T07:19:05.775Z"
   },
   {
    "duration": 5,
    "start_time": "2022-11-03T07:19:15.180Z"
   },
   {
    "duration": 4,
    "start_time": "2022-11-03T07:19:20.038Z"
   },
   {
    "duration": 4,
    "start_time": "2022-11-03T07:19:25.041Z"
   },
   {
    "duration": 5,
    "start_time": "2022-11-03T07:19:28.563Z"
   },
   {
    "duration": 643,
    "start_time": "2022-11-03T07:19:39.003Z"
   },
   {
    "duration": 3,
    "start_time": "2022-11-03T07:23:21.149Z"
   },
   {
    "duration": 5,
    "start_time": "2022-11-03T07:23:22.441Z"
   },
   {
    "duration": 98,
    "start_time": "2022-11-03T07:23:25.753Z"
   },
   {
    "duration": 1003,
    "start_time": "2022-11-03T07:24:42.587Z"
   },
   {
    "duration": 6,
    "start_time": "2022-11-03T07:24:44.855Z"
   },
   {
    "duration": 5,
    "start_time": "2022-11-03T07:29:21.922Z"
   },
   {
    "duration": 3,
    "start_time": "2022-11-03T07:29:22.491Z"
   },
   {
    "duration": 3,
    "start_time": "2022-11-03T07:31:40.040Z"
   },
   {
    "duration": 4,
    "start_time": "2022-11-03T07:31:40.521Z"
   },
   {
    "duration": 12,
    "start_time": "2022-11-03T07:31:41.022Z"
   },
   {
    "duration": 23,
    "start_time": "2022-11-03T07:31:50.394Z"
   },
   {
    "duration": 20,
    "start_time": "2022-11-03T07:31:50.878Z"
   },
   {
    "duration": 14,
    "start_time": "2022-11-03T07:32:11.512Z"
   },
   {
    "duration": 30,
    "start_time": "2022-11-03T07:32:22.144Z"
   },
   {
    "duration": 15,
    "start_time": "2022-11-03T07:32:52.876Z"
   },
   {
    "duration": 248,
    "start_time": "2022-11-03T07:32:58.119Z"
   },
   {
    "duration": 16,
    "start_time": "2022-11-03T07:33:04.127Z"
   },
   {
    "duration": 82,
    "start_time": "2022-11-03T07:33:24.977Z"
   },
   {
    "duration": 9,
    "start_time": "2022-11-03T07:33:26.018Z"
   },
   {
    "duration": 4,
    "start_time": "2022-11-03T07:33:32.056Z"
   },
   {
    "duration": 210,
    "start_time": "2022-11-03T07:33:44.485Z"
   },
   {
    "duration": 156,
    "start_time": "2022-11-03T07:33:54.004Z"
   },
   {
    "duration": 560,
    "start_time": "2022-11-03T07:34:39.712Z"
   },
   {
    "duration": 155,
    "start_time": "2022-11-03T07:34:55.620Z"
   },
   {
    "duration": 148,
    "start_time": "2022-11-03T07:35:09.211Z"
   },
   {
    "duration": 12,
    "start_time": "2022-11-03T07:35:13.853Z"
   },
   {
    "duration": 11,
    "start_time": "2022-11-03T07:35:33.485Z"
   },
   {
    "duration": 13,
    "start_time": "2022-11-03T07:35:34.312Z"
   },
   {
    "duration": 141,
    "start_time": "2022-11-03T07:36:02.301Z"
   },
   {
    "duration": 155,
    "start_time": "2022-11-03T07:36:10.556Z"
   },
   {
    "duration": 192,
    "start_time": "2022-11-03T07:36:37.171Z"
   },
   {
    "duration": 144,
    "start_time": "2022-11-03T07:39:09.815Z"
   },
   {
    "duration": 157,
    "start_time": "2022-11-03T07:39:31.887Z"
   },
   {
    "duration": 145,
    "start_time": "2022-11-03T07:40:44.438Z"
   },
   {
    "duration": 10,
    "start_time": "2022-11-03T07:44:19.601Z"
   },
   {
    "duration": 10,
    "start_time": "2022-11-03T07:44:22.514Z"
   },
   {
    "duration": 1028,
    "start_time": "2022-11-03T10:19:35.633Z"
   },
   {
    "duration": 3,
    "start_time": "2022-11-03T10:19:36.663Z"
   },
   {
    "duration": 67,
    "start_time": "2022-11-03T10:19:36.667Z"
   },
   {
    "duration": 24,
    "start_time": "2022-11-03T10:19:36.736Z"
   },
   {
    "duration": 13,
    "start_time": "2022-11-03T10:19:36.762Z"
   },
   {
    "duration": 22,
    "start_time": "2022-11-03T10:19:36.777Z"
   },
   {
    "duration": 16,
    "start_time": "2022-11-03T10:19:36.800Z"
   },
   {
    "duration": 7,
    "start_time": "2022-11-03T10:19:36.818Z"
   },
   {
    "duration": 13,
    "start_time": "2022-11-03T10:19:36.826Z"
   },
   {
    "duration": 754,
    "start_time": "2022-11-03T10:19:36.842Z"
   },
   {
    "duration": 3,
    "start_time": "2022-11-03T10:19:37.598Z"
   },
   {
    "duration": 19,
    "start_time": "2022-11-03T10:19:37.603Z"
   },
   {
    "duration": 893,
    "start_time": "2022-11-03T10:19:37.623Z"
   },
   {
    "duration": 5,
    "start_time": "2022-11-03T10:19:38.517Z"
   },
   {
    "duration": 8,
    "start_time": "2022-11-03T10:20:11.536Z"
   },
   {
    "duration": 9,
    "start_time": "2022-11-03T10:20:20.882Z"
   },
   {
    "duration": 56,
    "start_time": "2022-11-03T10:25:05.412Z"
   },
   {
    "duration": 84,
    "start_time": "2022-11-03T10:29:27.377Z"
   },
   {
    "duration": 103,
    "start_time": "2022-11-03T10:32:23.420Z"
   },
   {
    "duration": 4,
    "start_time": "2022-11-03T10:32:32.687Z"
   },
   {
    "duration": 9,
    "start_time": "2022-11-03T10:32:32.693Z"
   },
   {
    "duration": 65,
    "start_time": "2022-11-03T10:32:32.703Z"
   },
   {
    "duration": 23,
    "start_time": "2022-11-03T10:32:32.770Z"
   },
   {
    "duration": 23,
    "start_time": "2022-11-03T10:32:32.795Z"
   },
   {
    "duration": 210,
    "start_time": "2022-11-03T10:32:32.820Z"
   },
   {
    "duration": 12,
    "start_time": "2022-11-03T10:32:33.032Z"
   },
   {
    "duration": 10,
    "start_time": "2022-11-03T10:32:33.045Z"
   },
   {
    "duration": 14,
    "start_time": "2022-11-03T10:32:33.058Z"
   },
   {
    "duration": 755,
    "start_time": "2022-11-03T10:32:33.073Z"
   },
   {
    "duration": 4,
    "start_time": "2022-11-03T10:32:33.830Z"
   },
   {
    "duration": 26,
    "start_time": "2022-11-03T10:32:33.835Z"
   },
   {
    "duration": 937,
    "start_time": "2022-11-03T10:32:33.863Z"
   },
   {
    "duration": 6,
    "start_time": "2022-11-03T10:32:34.802Z"
   },
   {
    "duration": 22,
    "start_time": "2022-11-03T10:32:34.809Z"
   },
   {
    "duration": 33,
    "start_time": "2022-11-03T10:32:34.833Z"
   },
   {
    "duration": 10,
    "start_time": "2022-11-03T10:32:34.868Z"
   },
   {
    "duration": 37,
    "start_time": "2022-11-03T10:32:34.879Z"
   },
   {
    "duration": 7,
    "start_time": "2022-11-03T10:32:34.918Z"
   },
   {
    "duration": 28,
    "start_time": "2022-11-03T10:32:34.926Z"
   },
   {
    "duration": 14,
    "start_time": "2022-11-03T10:32:34.956Z"
   },
   {
    "duration": 32,
    "start_time": "2022-11-03T10:32:34.972Z"
   },
   {
    "duration": 33,
    "start_time": "2022-11-03T10:32:35.005Z"
   },
   {
    "duration": 275,
    "start_time": "2022-11-03T10:32:35.041Z"
   },
   {
    "duration": 106,
    "start_time": "2022-11-03T10:32:35.317Z"
   },
   {
    "duration": 4,
    "start_time": "2022-11-03T10:32:35.425Z"
   },
   {
    "duration": 351,
    "start_time": "2022-11-03T10:32:35.431Z"
   },
   {
    "duration": 20,
    "start_time": "2022-11-03T10:32:41.401Z"
   },
   {
    "duration": 21,
    "start_time": "2022-11-03T10:32:51.002Z"
   },
   {
    "duration": 223,
    "start_time": "2022-11-03T10:33:07.435Z"
   },
   {
    "duration": 480,
    "start_time": "2022-11-03T10:36:43.402Z"
   },
   {
    "duration": 486,
    "start_time": "2022-11-03T10:36:50.970Z"
   },
   {
    "duration": 1241,
    "start_time": "2022-11-03T12:46:11.354Z"
   },
   {
    "duration": 4,
    "start_time": "2022-11-03T12:46:12.597Z"
   },
   {
    "duration": 122,
    "start_time": "2022-11-03T12:46:12.603Z"
   },
   {
    "duration": 24,
    "start_time": "2022-11-03T12:46:12.769Z"
   },
   {
    "duration": 17,
    "start_time": "2022-11-03T12:46:14.750Z"
   },
   {
    "duration": 5,
    "start_time": "2022-11-03T12:46:15.100Z"
   },
   {
    "duration": 6,
    "start_time": "2022-11-03T12:46:15.292Z"
   },
   {
    "duration": 5,
    "start_time": "2022-11-03T12:46:15.491Z"
   },
   {
    "duration": 5,
    "start_time": "2022-11-03T12:46:16.096Z"
   },
   {
    "duration": 717,
    "start_time": "2022-11-03T12:46:16.655Z"
   },
   {
    "duration": 4,
    "start_time": "2022-11-03T12:46:23.253Z"
   },
   {
    "duration": 5,
    "start_time": "2022-11-03T12:46:25.324Z"
   },
   {
    "duration": 929,
    "start_time": "2022-11-03T12:46:27.373Z"
   },
   {
    "duration": 6,
    "start_time": "2022-11-03T12:46:34.307Z"
   },
   {
    "duration": 7,
    "start_time": "2022-11-03T12:46:34.735Z"
   },
   {
    "duration": 19,
    "start_time": "2022-11-03T12:46:57.014Z"
   },
   {
    "duration": 4,
    "start_time": "2022-11-03T12:47:10.576Z"
   },
   {
    "duration": 19,
    "start_time": "2022-11-03T12:47:11.905Z"
   },
   {
    "duration": 12,
    "start_time": "2022-11-03T12:48:30.575Z"
   },
   {
    "duration": 4,
    "start_time": "2022-11-03T12:48:39.059Z"
   },
   {
    "duration": 5,
    "start_time": "2022-11-03T12:48:39.451Z"
   },
   {
    "duration": 13,
    "start_time": "2022-11-03T12:48:39.803Z"
   },
   {
    "duration": 5,
    "start_time": "2022-11-03T12:48:48.503Z"
   },
   {
    "duration": 20,
    "start_time": "2022-11-03T12:48:50.658Z"
   },
   {
    "duration": 15,
    "start_time": "2022-11-03T12:49:01.127Z"
   },
   {
    "duration": 320,
    "start_time": "2022-11-03T12:51:00.951Z"
   },
   {
    "duration": 362,
    "start_time": "2022-11-03T12:51:10.851Z"
   },
   {
    "duration": 17,
    "start_time": "2022-11-03T12:51:41.339Z"
   },
   {
    "duration": 41,
    "start_time": "2022-11-03T12:52:07.661Z"
   },
   {
    "duration": 6,
    "start_time": "2022-11-03T12:54:46.433Z"
   },
   {
    "duration": 304,
    "start_time": "2022-11-03T12:56:17.121Z"
   },
   {
    "duration": 251,
    "start_time": "2022-11-03T12:59:41.849Z"
   },
   {
    "duration": 155,
    "start_time": "2022-11-03T13:00:05.342Z"
   },
   {
    "duration": 12,
    "start_time": "2022-11-03T13:00:45.123Z"
   },
   {
    "duration": 269,
    "start_time": "2022-11-03T13:02:40.927Z"
   },
   {
    "duration": 284,
    "start_time": "2022-11-03T13:10:19.356Z"
   },
   {
    "duration": 272,
    "start_time": "2022-11-03T13:10:48.788Z"
   },
   {
    "duration": 108,
    "start_time": "2022-11-03T13:15:54.240Z"
   },
   {
    "duration": 40,
    "start_time": "2022-11-03T13:16:08.498Z"
   },
   {
    "duration": 11,
    "start_time": "2022-11-03T13:26:14.195Z"
   },
   {
    "duration": 12,
    "start_time": "2022-11-03T13:26:15.694Z"
   },
   {
    "duration": 158,
    "start_time": "2022-11-03T13:28:17.149Z"
   },
   {
    "duration": 182,
    "start_time": "2022-11-03T13:28:18.310Z"
   },
   {
    "duration": 164,
    "start_time": "2022-11-03T13:40:00.512Z"
   },
   {
    "duration": 247,
    "start_time": "2022-11-03T13:40:01.015Z"
   },
   {
    "duration": 155,
    "start_time": "2022-11-03T13:42:25.091Z"
   },
   {
    "duration": 171,
    "start_time": "2022-11-03T13:42:30.011Z"
   },
   {
    "duration": 35,
    "start_time": "2022-11-03T13:44:54.867Z"
   },
   {
    "duration": 2,
    "start_time": "2022-11-03T14:16:51.835Z"
   },
   {
    "duration": 193,
    "start_time": "2022-11-03T14:17:04.011Z"
   },
   {
    "duration": 170,
    "start_time": "2022-11-03T14:17:07.319Z"
   },
   {
    "duration": 190,
    "start_time": "2022-11-03T14:17:10.971Z"
   },
   {
    "duration": 169,
    "start_time": "2022-11-03T14:17:36.199Z"
   },
   {
    "duration": 160,
    "start_time": "2022-11-03T14:17:39.523Z"
   },
   {
    "duration": 155,
    "start_time": "2022-11-03T14:17:43.572Z"
   },
   {
    "duration": 3,
    "start_time": "2022-11-03T14:22:43.745Z"
   },
   {
    "duration": 170,
    "start_time": "2022-11-03T14:23:22.763Z"
   },
   {
    "duration": 172,
    "start_time": "2022-11-03T14:23:27.296Z"
   },
   {
    "duration": 159,
    "start_time": "2022-11-03T14:23:31.379Z"
   },
   {
    "duration": 243,
    "start_time": "2022-11-03T14:25:02.608Z"
   },
   {
    "duration": 180,
    "start_time": "2022-11-03T14:25:15.514Z"
   },
   {
    "duration": 187,
    "start_time": "2022-11-03T14:25:57.180Z"
   },
   {
    "duration": 257,
    "start_time": "2022-11-03T14:26:03.278Z"
   },
   {
    "duration": 157,
    "start_time": "2022-11-03T14:26:08.291Z"
   },
   {
    "duration": 181,
    "start_time": "2022-11-03T14:26:58.145Z"
   },
   {
    "duration": 231,
    "start_time": "2022-11-03T14:27:03.986Z"
   },
   {
    "duration": 155,
    "start_time": "2022-11-03T14:27:08.066Z"
   },
   {
    "duration": 172,
    "start_time": "2022-11-03T14:28:36.533Z"
   },
   {
    "duration": 176,
    "start_time": "2022-11-03T14:28:56.808Z"
   },
   {
    "duration": 18,
    "start_time": "2022-11-03T14:29:11.787Z"
   },
   {
    "duration": 179,
    "start_time": "2022-11-03T14:29:19.169Z"
   },
   {
    "duration": 158,
    "start_time": "2022-11-03T14:29:29.483Z"
   },
   {
    "duration": 17,
    "start_time": "2022-11-03T14:30:49.832Z"
   },
   {
    "duration": 36,
    "start_time": "2022-11-03T14:31:44.762Z"
   },
   {
    "duration": 36,
    "start_time": "2022-11-03T14:32:48.554Z"
   },
   {
    "duration": 44,
    "start_time": "2022-11-03T14:33:13.305Z"
   },
   {
    "duration": 38,
    "start_time": "2022-11-03T14:33:24.706Z"
   },
   {
    "duration": 147,
    "start_time": "2022-11-03T14:42:04.870Z"
   },
   {
    "duration": 140,
    "start_time": "2022-11-03T14:42:17.018Z"
   },
   {
    "duration": 145,
    "start_time": "2022-11-03T14:42:20.913Z"
   },
   {
    "duration": 8,
    "start_time": "2022-11-03T14:45:08.504Z"
   },
   {
    "duration": 7,
    "start_time": "2022-11-03T14:46:05.754Z"
   },
   {
    "duration": 8,
    "start_time": "2022-11-03T14:46:26.066Z"
   },
   {
    "duration": 9,
    "start_time": "2022-11-03T14:46:46.530Z"
   },
   {
    "duration": 8,
    "start_time": "2022-11-03T14:48:33.351Z"
   }
  ],
  "kernelspec": {
   "display_name": "Python 3 (ipykernel)",
   "language": "python",
   "name": "python3"
  },
  "language_info": {
   "codemirror_mode": {
    "name": "ipython",
    "version": 3
   },
   "file_extension": ".py",
   "mimetype": "text/x-python",
   "name": "python",
   "nbconvert_exporter": "python",
   "pygments_lexer": "ipython3",
   "version": "3.9.12"
  },
  "toc": {
   "base_numbering": 1,
   "nav_menu": {},
   "number_sections": true,
   "sideBar": true,
   "skip_h1_title": true,
   "title_cell": "Table of Contents",
   "title_sidebar": "Contents",
   "toc_cell": false,
   "toc_position": {},
   "toc_section_display": true,
   "toc_window_display": false
  }
 },
 "nbformat": 4,
 "nbformat_minor": 2
}
